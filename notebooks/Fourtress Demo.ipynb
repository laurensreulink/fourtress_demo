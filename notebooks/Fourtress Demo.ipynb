{
 "cells": [
  {
   "cell_type": "markdown",
   "id": "identified-latino",
   "metadata": {},
   "source": [
    "# Fourtress Demo"
   ]
  },
  {
   "cell_type": "code",
   "execution_count": 1,
   "id": "cardiovascular-collection",
   "metadata": {},
   "outputs": [],
   "source": [
    "import pandas as pd\n",
    "import numpy as np\n",
    "import matplotlib.pyplot as plt\n",
    "import io\n",
    "import seaborn as sns\n",
    "\n",
    "from ast import literal_eval\n",
    "from itertools import chain,cycle\n",
    "from IPython.display import display, display_html, Image\n",
    "\n",
    "import io\n",
    "import seaborn as sns\n",
    "\n",
    "#model selection\n",
    "from sklearn.model_selection import train_test_split, KFold, cross_val_score\n",
    "from sklearn.preprocessing import StandardScaler\n",
    "\n",
    "#algorithms\n",
    "from sklearn.linear_model import LogisticRegression\n",
    "from sklearn.tree import DecisionTreeClassifier\n",
    "\n",
    "#metrics\n",
    "from sklearn import metrics\n",
    "\n",
    "import warnings\n",
    "warnings.filterwarnings('ignore')\n",
    "%matplotlib inline"
   ]
  },
  {
   "cell_type": "markdown",
   "id": "funded-sponsorship",
   "metadata": {},
   "source": [
    "Some useful functions..."
   ]
  },
  {
   "cell_type": "code",
   "execution_count": 2,
   "id": "regional-permit",
   "metadata": {},
   "outputs": [],
   "source": [
    "def get_missing_values(df):\n",
    "    missing_df = df.isnull().sum(axis=0).reset_index()\n",
    "    missing_df.columns = ['variable', 'missing values']\n",
    "    missing_df['filling factor (%)']=(df.shape[0]-missing_df['missing values'])/df.shape[0]*100\n",
    "    display(missing_df.sort_values('filling factor (%)').reset_index(drop = True))\n",
    "\n",
    "def display_side_by_side(*args,titles=cycle([''])):\n",
    "    html_str=''\n",
    "    for df,title in zip(args, chain(titles,cycle(['</br>'])) ):\n",
    "        html_str+='<th style=\"text-align:center\"><td style=\"vertical-align:top\">'\n",
    "        html_str+=f'<h2>{title}</h2>'\n",
    "        html_str+=df.to_html().replace('table','table style=\"display:inline\"')\n",
    "        html_str+='</td></th>'\n",
    "    display_html(html_str,raw=True)"
   ]
  },
  {
   "cell_type": "markdown",
   "id": "elect-couple",
   "metadata": {},
   "source": [
    "## Data exploration"
   ]
  },
  {
   "cell_type": "markdown",
   "id": "greater-uncertainty",
   "metadata": {},
   "source": [
    "#### *Hoe ziet de data eruit?*"
   ]
  },
  {
   "cell_type": "code",
   "execution_count": 3,
   "id": "primary-graphic",
   "metadata": {},
   "outputs": [],
   "source": [
    "fl = pd.read_csv('../data/flights.csv') # we laden de data in een Pandas Dataframe object"
   ]
  },
  {
   "cell_type": "code",
   "execution_count": 4,
   "id": "initial-champion",
   "metadata": {},
   "outputs": [
    {
     "data": {
      "text/plain": [
       "(523275, 28)"
      ]
     },
     "execution_count": 4,
     "metadata": {},
     "output_type": "execute_result"
    }
   ],
   "source": [
    "fl.shape"
   ]
  },
  {
   "cell_type": "code",
   "execution_count": 5,
   "id": "desperate-january",
   "metadata": {},
   "outputs": [
    {
     "data": {
      "text/html": [
       "<div>\n",
       "<style scoped>\n",
       "    .dataframe tbody tr th:only-of-type {\n",
       "        vertical-align: middle;\n",
       "    }\n",
       "\n",
       "    .dataframe tbody tr th {\n",
       "        vertical-align: top;\n",
       "    }\n",
       "\n",
       "    .dataframe thead th {\n",
       "        text-align: right;\n",
       "    }\n",
       "</style>\n",
       "<table border=\"1\" class=\"dataframe\">\n",
       "  <thead>\n",
       "    <tr style=\"text-align: right;\">\n",
       "      <th></th>\n",
       "      <th>actualOffBlockTime</th>\n",
       "      <th>aircraftRegistration</th>\n",
       "      <th>aircraftType.iatamain</th>\n",
       "      <th>aircraftType.iatasub</th>\n",
       "      <th>airlineCode</th>\n",
       "      <th>baggageClaim</th>\n",
       "      <th>estimatedLandingTime</th>\n",
       "      <th>expectedTimeBoarding</th>\n",
       "      <th>expectedTimeGateClosing</th>\n",
       "      <th>expectedTimeGateOpen</th>\n",
       "      <th>...</th>\n",
       "      <th>prefixICAO</th>\n",
       "      <th>publicEstimatedOffBlockTime</th>\n",
       "      <th>publicFlightState.flightStates</th>\n",
       "      <th>route.destinations</th>\n",
       "      <th>scheduleDate</th>\n",
       "      <th>scheduleTime</th>\n",
       "      <th>serviceType</th>\n",
       "      <th>terminal</th>\n",
       "      <th>transferPositions</th>\n",
       "      <th>transferPositions.transferPositions</th>\n",
       "    </tr>\n",
       "  </thead>\n",
       "  <tbody>\n",
       "    <tr>\n",
       "      <th>0</th>\n",
       "      <td>NaN</td>\n",
       "      <td>NaN</td>\n",
       "      <td>NaN</td>\n",
       "      <td>NaN</td>\n",
       "      <td>148.0</td>\n",
       "      <td>NaN</td>\n",
       "      <td>NaN</td>\n",
       "      <td>NaN</td>\n",
       "      <td>NaN</td>\n",
       "      <td>NaN</td>\n",
       "      <td>...</td>\n",
       "      <td>ZXP</td>\n",
       "      <td>NaN</td>\n",
       "      <td>['SCH']</td>\n",
       "      <td>['AMS']</td>\n",
       "      <td>2018-01-01</td>\n",
       "      <td>03:02:07</td>\n",
       "      <td>P</td>\n",
       "      <td>NaN</td>\n",
       "      <td>NaN</td>\n",
       "      <td>NaN</td>\n",
       "    </tr>\n",
       "    <tr>\n",
       "      <th>1</th>\n",
       "      <td>NaN</td>\n",
       "      <td>PHPXY</td>\n",
       "      <td>AW1</td>\n",
       "      <td>NaN</td>\n",
       "      <td>148.0</td>\n",
       "      <td>NaN</td>\n",
       "      <td>NaN</td>\n",
       "      <td>NaN</td>\n",
       "      <td>NaN</td>\n",
       "      <td>NaN</td>\n",
       "      <td>...</td>\n",
       "      <td>ZXP</td>\n",
       "      <td>NaN</td>\n",
       "      <td>['SCH']</td>\n",
       "      <td>['AMS']</td>\n",
       "      <td>2018-01-01</td>\n",
       "      <td>03:16:00</td>\n",
       "      <td>NaN</td>\n",
       "      <td>NaN</td>\n",
       "      <td>NaN</td>\n",
       "      <td>NaN</td>\n",
       "    </tr>\n",
       "    <tr>\n",
       "      <th>2</th>\n",
       "      <td>NaN</td>\n",
       "      <td>NaN</td>\n",
       "      <td>AW1</td>\n",
       "      <td>NaN</td>\n",
       "      <td>148.0</td>\n",
       "      <td>NaN</td>\n",
       "      <td>NaN</td>\n",
       "      <td>NaN</td>\n",
       "      <td>NaN</td>\n",
       "      <td>NaN</td>\n",
       "      <td>...</td>\n",
       "      <td>ZXP</td>\n",
       "      <td>NaN</td>\n",
       "      <td>['SCH']</td>\n",
       "      <td>['AMS']</td>\n",
       "      <td>2018-01-01</td>\n",
       "      <td>03:16:29</td>\n",
       "      <td>P</td>\n",
       "      <td>NaN</td>\n",
       "      <td>NaN</td>\n",
       "      <td>NaN</td>\n",
       "    </tr>\n",
       "    <tr>\n",
       "      <th>3</th>\n",
       "      <td>2018-01-01T03:22:00.000+01:00</td>\n",
       "      <td>PHPXB</td>\n",
       "      <td>NaN</td>\n",
       "      <td>NaN</td>\n",
       "      <td>148.0</td>\n",
       "      <td>NaN</td>\n",
       "      <td>NaN</td>\n",
       "      <td>NaN</td>\n",
       "      <td>NaN</td>\n",
       "      <td>NaN</td>\n",
       "      <td>...</td>\n",
       "      <td>ZXP</td>\n",
       "      <td>NaN</td>\n",
       "      <td>['DEP']</td>\n",
       "      <td>['AMS']</td>\n",
       "      <td>2018-01-01</td>\n",
       "      <td>03:30:00</td>\n",
       "      <td>NaN</td>\n",
       "      <td>NaN</td>\n",
       "      <td>NaN</td>\n",
       "      <td>NaN</td>\n",
       "    </tr>\n",
       "    <tr>\n",
       "      <th>4</th>\n",
       "      <td>2018-01-01T05:58:22.000+01:00</td>\n",
       "      <td>PHHSJ</td>\n",
       "      <td>73H</td>\n",
       "      <td>73H</td>\n",
       "      <td>164.0</td>\n",
       "      <td>NaN</td>\n",
       "      <td>NaN</td>\n",
       "      <td>NaN</td>\n",
       "      <td>NaN</td>\n",
       "      <td>NaN</td>\n",
       "      <td>...</td>\n",
       "      <td>TRA</td>\n",
       "      <td>NaN</td>\n",
       "      <td>['DEP']</td>\n",
       "      <td>['SPC']</td>\n",
       "      <td>2018-01-01</td>\n",
       "      <td>06:00:00</td>\n",
       "      <td>J</td>\n",
       "      <td>1.0</td>\n",
       "      <td>NaN</td>\n",
       "      <td>NaN</td>\n",
       "    </tr>\n",
       "  </tbody>\n",
       "</table>\n",
       "<p>5 rows × 28 columns</p>\n",
       "</div>"
      ],
      "text/plain": [
       "              actualOffBlockTime aircraftRegistration aircraftType.iatamain  \\\n",
       "0                            NaN                  NaN                   NaN   \n",
       "1                            NaN                PHPXY                   AW1   \n",
       "2                            NaN                  NaN                   AW1   \n",
       "3  2018-01-01T03:22:00.000+01:00                PHPXB                   NaN   \n",
       "4  2018-01-01T05:58:22.000+01:00                PHHSJ                   73H   \n",
       "\n",
       "  aircraftType.iatasub  airlineCode  baggageClaim  estimatedLandingTime  \\\n",
       "0                  NaN        148.0           NaN                   NaN   \n",
       "1                  NaN        148.0           NaN                   NaN   \n",
       "2                  NaN        148.0           NaN                   NaN   \n",
       "3                  NaN        148.0           NaN                   NaN   \n",
       "4                  73H        164.0           NaN                   NaN   \n",
       "\n",
       "  expectedTimeBoarding expectedTimeGateClosing expectedTimeGateOpen  ...  \\\n",
       "0                  NaN                     NaN                  NaN  ...   \n",
       "1                  NaN                     NaN                  NaN  ...   \n",
       "2                  NaN                     NaN                  NaN  ...   \n",
       "3                  NaN                     NaN                  NaN  ...   \n",
       "4                  NaN                     NaN                  NaN  ...   \n",
       "\n",
       "   prefixICAO publicEstimatedOffBlockTime publicFlightState.flightStates  \\\n",
       "0         ZXP                         NaN                        ['SCH']   \n",
       "1         ZXP                         NaN                        ['SCH']   \n",
       "2         ZXP                         NaN                        ['SCH']   \n",
       "3         ZXP                         NaN                        ['DEP']   \n",
       "4         TRA                         NaN                        ['DEP']   \n",
       "\n",
       "   route.destinations scheduleDate  scheduleTime serviceType terminal  \\\n",
       "0             ['AMS']   2018-01-01      03:02:07           P      NaN   \n",
       "1             ['AMS']   2018-01-01      03:16:00         NaN      NaN   \n",
       "2             ['AMS']   2018-01-01      03:16:29           P      NaN   \n",
       "3             ['AMS']   2018-01-01      03:30:00         NaN      NaN   \n",
       "4             ['SPC']   2018-01-01      06:00:00           J      1.0   \n",
       "\n",
       "  transferPositions transferPositions.transferPositions  \n",
       "0               NaN                                 NaN  \n",
       "1               NaN                                 NaN  \n",
       "2               NaN                                 NaN  \n",
       "3               NaN                                 NaN  \n",
       "4               NaN                                 NaN  \n",
       "\n",
       "[5 rows x 28 columns]"
      ]
     },
     "execution_count": 5,
     "metadata": {},
     "output_type": "execute_result"
    }
   ],
   "source": [
    "fl.head()"
   ]
  },
  {
   "cell_type": "markdown",
   "id": "connected-irrigation",
   "metadata": {},
   "source": [
    "#### *Welke variabelen zitten er in de data?*"
   ]
  },
  {
   "cell_type": "code",
   "execution_count": 6,
   "id": "adjustable-commitment",
   "metadata": {},
   "outputs": [
    {
     "data": {
      "text/plain": [
       "array(['actualOffBlockTime', 'aircraftRegistration',\n",
       "       'aircraftType.iatamain', 'aircraftType.iatasub', 'airlineCode',\n",
       "       'baggageClaim', 'estimatedLandingTime', 'expectedTimeBoarding',\n",
       "       'expectedTimeGateClosing', 'expectedTimeGateOpen',\n",
       "       'expectedTimeOnBelt', 'flightDirection', 'flightName',\n",
       "       'flightNumber', 'gate', 'id', 'mainFlight', 'prefixIATA',\n",
       "       'prefixICAO', 'publicEstimatedOffBlockTime',\n",
       "       'publicFlightState.flightStates', 'route.destinations',\n",
       "       'scheduleDate', 'scheduleTime', 'serviceType', 'terminal',\n",
       "       'transferPositions', 'transferPositions.transferPositions'],\n",
       "      dtype=object)"
      ]
     },
     "execution_count": 6,
     "metadata": {},
     "output_type": "execute_result"
    }
   ],
   "source": [
    "fl.columns.values"
   ]
  },
  {
   "cell_type": "markdown",
   "id": "unavailable-introduction",
   "metadata": {},
   "source": [
    "#### *Missende data zijn onhandig, waar zitten de meeste missende data?*"
   ]
  },
  {
   "cell_type": "code",
   "execution_count": 7,
   "id": "facial-stationery",
   "metadata": {},
   "outputs": [
    {
     "data": {
      "text/html": [
       "<div>\n",
       "<style scoped>\n",
       "    .dataframe tbody tr th:only-of-type {\n",
       "        vertical-align: middle;\n",
       "    }\n",
       "\n",
       "    .dataframe tbody tr th {\n",
       "        vertical-align: top;\n",
       "    }\n",
       "\n",
       "    .dataframe thead th {\n",
       "        text-align: right;\n",
       "    }\n",
       "</style>\n",
       "<table border=\"1\" class=\"dataframe\">\n",
       "  <thead>\n",
       "    <tr style=\"text-align: right;\">\n",
       "      <th></th>\n",
       "      <th>variable</th>\n",
       "      <th>missing values</th>\n",
       "      <th>filling factor (%)</th>\n",
       "    </tr>\n",
       "  </thead>\n",
       "  <tbody>\n",
       "    <tr>\n",
       "      <th>0</th>\n",
       "      <td>transferPositions</td>\n",
       "      <td>523275</td>\n",
       "      <td>0.000000</td>\n",
       "    </tr>\n",
       "    <tr>\n",
       "      <th>1</th>\n",
       "      <td>expectedTimeOnBelt</td>\n",
       "      <td>523275</td>\n",
       "      <td>0.000000</td>\n",
       "    </tr>\n",
       "    <tr>\n",
       "      <th>2</th>\n",
       "      <td>baggageClaim</td>\n",
       "      <td>523275</td>\n",
       "      <td>0.000000</td>\n",
       "    </tr>\n",
       "    <tr>\n",
       "      <th>3</th>\n",
       "      <td>estimatedLandingTime</td>\n",
       "      <td>523275</td>\n",
       "      <td>0.000000</td>\n",
       "    </tr>\n",
       "    <tr>\n",
       "      <th>4</th>\n",
       "      <td>transferPositions.transferPositions</td>\n",
       "      <td>495956</td>\n",
       "      <td>5.220773</td>\n",
       "    </tr>\n",
       "    <tr>\n",
       "      <th>5</th>\n",
       "      <td>publicEstimatedOffBlockTime</td>\n",
       "      <td>442560</td>\n",
       "      <td>15.424968</td>\n",
       "    </tr>\n",
       "    <tr>\n",
       "      <th>6</th>\n",
       "      <td>expectedTimeGateOpen</td>\n",
       "      <td>109097</td>\n",
       "      <td>79.151116</td>\n",
       "    </tr>\n",
       "    <tr>\n",
       "      <th>7</th>\n",
       "      <td>expectedTimeBoarding</td>\n",
       "      <td>96356</td>\n",
       "      <td>81.585973</td>\n",
       "    </tr>\n",
       "    <tr>\n",
       "      <th>8</th>\n",
       "      <td>expectedTimeGateClosing</td>\n",
       "      <td>96356</td>\n",
       "      <td>81.585973</td>\n",
       "    </tr>\n",
       "    <tr>\n",
       "      <th>9</th>\n",
       "      <td>gate</td>\n",
       "      <td>39728</td>\n",
       "      <td>92.407816</td>\n",
       "    </tr>\n",
       "    <tr>\n",
       "      <th>10</th>\n",
       "      <td>actualOffBlockTime</td>\n",
       "      <td>35559</td>\n",
       "      <td>93.204529</td>\n",
       "    </tr>\n",
       "    <tr>\n",
       "      <th>11</th>\n",
       "      <td>terminal</td>\n",
       "      <td>28646</td>\n",
       "      <td>94.525632</td>\n",
       "    </tr>\n",
       "    <tr>\n",
       "      <th>12</th>\n",
       "      <td>aircraftRegistration</td>\n",
       "      <td>27543</td>\n",
       "      <td>94.736420</td>\n",
       "    </tr>\n",
       "    <tr>\n",
       "      <th>13</th>\n",
       "      <td>prefixIATA</td>\n",
       "      <td>6397</td>\n",
       "      <td>98.777507</td>\n",
       "    </tr>\n",
       "    <tr>\n",
       "      <th>14</th>\n",
       "      <td>serviceType</td>\n",
       "      <td>5378</td>\n",
       "      <td>98.972242</td>\n",
       "    </tr>\n",
       "    <tr>\n",
       "      <th>15</th>\n",
       "      <td>aircraftType.iatasub</td>\n",
       "      <td>4967</td>\n",
       "      <td>99.050786</td>\n",
       "    </tr>\n",
       "    <tr>\n",
       "      <th>16</th>\n",
       "      <td>aircraftType.iatamain</td>\n",
       "      <td>2167</td>\n",
       "      <td>99.585877</td>\n",
       "    </tr>\n",
       "    <tr>\n",
       "      <th>17</th>\n",
       "      <td>flightNumber</td>\n",
       "      <td>1703</td>\n",
       "      <td>99.674550</td>\n",
       "    </tr>\n",
       "    <tr>\n",
       "      <th>18</th>\n",
       "      <td>airlineCode</td>\n",
       "      <td>1408</td>\n",
       "      <td>99.730925</td>\n",
       "    </tr>\n",
       "    <tr>\n",
       "      <th>19</th>\n",
       "      <td>prefixICAO</td>\n",
       "      <td>1381</td>\n",
       "      <td>99.736085</td>\n",
       "    </tr>\n",
       "    <tr>\n",
       "      <th>20</th>\n",
       "      <td>publicFlightState.flightStates</td>\n",
       "      <td>0</td>\n",
       "      <td>100.000000</td>\n",
       "    </tr>\n",
       "    <tr>\n",
       "      <th>21</th>\n",
       "      <td>route.destinations</td>\n",
       "      <td>0</td>\n",
       "      <td>100.000000</td>\n",
       "    </tr>\n",
       "    <tr>\n",
       "      <th>22</th>\n",
       "      <td>scheduleDate</td>\n",
       "      <td>0</td>\n",
       "      <td>100.000000</td>\n",
       "    </tr>\n",
       "    <tr>\n",
       "      <th>23</th>\n",
       "      <td>scheduleTime</td>\n",
       "      <td>0</td>\n",
       "      <td>100.000000</td>\n",
       "    </tr>\n",
       "    <tr>\n",
       "      <th>24</th>\n",
       "      <td>id</td>\n",
       "      <td>0</td>\n",
       "      <td>100.000000</td>\n",
       "    </tr>\n",
       "    <tr>\n",
       "      <th>25</th>\n",
       "      <td>flightName</td>\n",
       "      <td>0</td>\n",
       "      <td>100.000000</td>\n",
       "    </tr>\n",
       "    <tr>\n",
       "      <th>26</th>\n",
       "      <td>mainFlight</td>\n",
       "      <td>0</td>\n",
       "      <td>100.000000</td>\n",
       "    </tr>\n",
       "    <tr>\n",
       "      <th>27</th>\n",
       "      <td>flightDirection</td>\n",
       "      <td>0</td>\n",
       "      <td>100.000000</td>\n",
       "    </tr>\n",
       "  </tbody>\n",
       "</table>\n",
       "</div>"
      ],
      "text/plain": [
       "                               variable  missing values  filling factor (%)\n",
       "0                     transferPositions          523275            0.000000\n",
       "1                    expectedTimeOnBelt          523275            0.000000\n",
       "2                          baggageClaim          523275            0.000000\n",
       "3                  estimatedLandingTime          523275            0.000000\n",
       "4   transferPositions.transferPositions          495956            5.220773\n",
       "5           publicEstimatedOffBlockTime          442560           15.424968\n",
       "6                  expectedTimeGateOpen          109097           79.151116\n",
       "7                  expectedTimeBoarding           96356           81.585973\n",
       "8               expectedTimeGateClosing           96356           81.585973\n",
       "9                                  gate           39728           92.407816\n",
       "10                   actualOffBlockTime           35559           93.204529\n",
       "11                             terminal           28646           94.525632\n",
       "12                 aircraftRegistration           27543           94.736420\n",
       "13                           prefixIATA            6397           98.777507\n",
       "14                          serviceType            5378           98.972242\n",
       "15                 aircraftType.iatasub            4967           99.050786\n",
       "16                aircraftType.iatamain            2167           99.585877\n",
       "17                         flightNumber            1703           99.674550\n",
       "18                          airlineCode            1408           99.730925\n",
       "19                           prefixICAO            1381           99.736085\n",
       "20       publicFlightState.flightStates               0          100.000000\n",
       "21                   route.destinations               0          100.000000\n",
       "22                         scheduleDate               0          100.000000\n",
       "23                         scheduleTime               0          100.000000\n",
       "24                                   id               0          100.000000\n",
       "25                           flightName               0          100.000000\n",
       "26                           mainFlight               0          100.000000\n",
       "27                      flightDirection               0          100.000000"
      ]
     },
     "metadata": {},
     "output_type": "display_data"
    }
   ],
   "source": [
    "get_missing_values(fl)"
   ]
  },
  {
   "cell_type": "markdown",
   "id": "exact-pizza",
   "metadata": {},
   "source": [
    "Ik heb zelf al een selectie gemaakt van variabelen die ikzelf minder nuttig acht, aangevuld met de variabelen met veel NaN waarden. Deze sla ik op in een lijst om later weer te gebruiken. "
   ]
  },
  {
   "cell_type": "code",
   "execution_count": 8,
   "id": "sought-tolerance",
   "metadata": {},
   "outputs": [],
   "source": [
    "to_drop = ['aircraftRegistration','baggageClaim','estimatedLandingTime','expectedTimeOnBelt',\n",
    "           'mainFlight','flightName','flightNumber','airlineCode','prefixIATA','publicEstimatedOffBlockTime',\n",
    "           'transferPositions','transferPositions.transferPositions','route.destinations',\n",
    "           'publicFlightState.flightStates']"
   ]
  },
  {
   "cell_type": "code",
   "execution_count": 9,
   "id": "removable-samba",
   "metadata": {},
   "outputs": [
    {
     "data": {
      "text/plain": [
       "['CDG']           17089\n",
       "['CPH']           14355\n",
       "['LHR']           14208\n",
       "['MAN']           12269\n",
       "['MAD']           12183\n",
       "                  ...  \n",
       "['FRA', 'SVO']        1\n",
       "['TPS', 'AHO']        1\n",
       "['HHN', 'GYD']        1\n",
       "['JED', 'RUH']        1\n",
       "['ANG']               1\n",
       "Name: route.destinations, Length: 1017, dtype: int64"
      ]
     },
     "execution_count": 9,
     "metadata": {},
     "output_type": "execute_result"
    }
   ],
   "source": [
    "fl['route.destinations'].value_counts()"
   ]
  },
  {
   "cell_type": "code",
   "execution_count": null,
   "id": "funky-horizon",
   "metadata": {},
   "outputs": [],
   "source": [
    "fl[fl['route.destinations'].str.len()>14]['route.destinations']"
   ]
  },
  {
   "cell_type": "code",
   "execution_count": 10,
   "id": "resistant-sheffield",
   "metadata": {},
   "outputs": [],
   "source": [
    "fl['n_dest'] = fl['route.destinations'].map(eval).map(len)\n",
    "fl['final_destination'] = fl['route.destinations'].apply(eval)\n",
    "fl['final_destination'] = fl['final_destination'].map(lambda x: x[-1])\n",
    "fl.drop(columns=to_drop, inplace=True) # verwijdert columns die ik niet meer nodig heb\n",
    "fl.dropna(how='any', inplace=True) # verwijdert alle rijen met tenminste 1 NaN waarde"
   ]
  },
  {
   "cell_type": "markdown",
   "id": "competent-player",
   "metadata": {},
   "source": [
    "Hoe staat het nu met de missende waarden?"
   ]
  },
  {
   "cell_type": "code",
   "execution_count": 11,
   "id": "graphic-superintendent",
   "metadata": {},
   "outputs": [
    {
     "data": {
      "text/html": [
       "<div>\n",
       "<style scoped>\n",
       "    .dataframe tbody tr th:only-of-type {\n",
       "        vertical-align: middle;\n",
       "    }\n",
       "\n",
       "    .dataframe tbody tr th {\n",
       "        vertical-align: top;\n",
       "    }\n",
       "\n",
       "    .dataframe thead th {\n",
       "        text-align: right;\n",
       "    }\n",
       "</style>\n",
       "<table border=\"1\" class=\"dataframe\">\n",
       "  <thead>\n",
       "    <tr style=\"text-align: right;\">\n",
       "      <th></th>\n",
       "      <th>variable</th>\n",
       "      <th>missing values</th>\n",
       "      <th>filling factor (%)</th>\n",
       "    </tr>\n",
       "  </thead>\n",
       "  <tbody>\n",
       "    <tr>\n",
       "      <th>0</th>\n",
       "      <td>actualOffBlockTime</td>\n",
       "      <td>0</td>\n",
       "      <td>100.0</td>\n",
       "    </tr>\n",
       "    <tr>\n",
       "      <th>1</th>\n",
       "      <td>aircraftType.iatamain</td>\n",
       "      <td>0</td>\n",
       "      <td>100.0</td>\n",
       "    </tr>\n",
       "    <tr>\n",
       "      <th>2</th>\n",
       "      <td>aircraftType.iatasub</td>\n",
       "      <td>0</td>\n",
       "      <td>100.0</td>\n",
       "    </tr>\n",
       "    <tr>\n",
       "      <th>3</th>\n",
       "      <td>expectedTimeBoarding</td>\n",
       "      <td>0</td>\n",
       "      <td>100.0</td>\n",
       "    </tr>\n",
       "    <tr>\n",
       "      <th>4</th>\n",
       "      <td>expectedTimeGateClosing</td>\n",
       "      <td>0</td>\n",
       "      <td>100.0</td>\n",
       "    </tr>\n",
       "    <tr>\n",
       "      <th>5</th>\n",
       "      <td>expectedTimeGateOpen</td>\n",
       "      <td>0</td>\n",
       "      <td>100.0</td>\n",
       "    </tr>\n",
       "    <tr>\n",
       "      <th>6</th>\n",
       "      <td>flightDirection</td>\n",
       "      <td>0</td>\n",
       "      <td>100.0</td>\n",
       "    </tr>\n",
       "    <tr>\n",
       "      <th>7</th>\n",
       "      <td>gate</td>\n",
       "      <td>0</td>\n",
       "      <td>100.0</td>\n",
       "    </tr>\n",
       "    <tr>\n",
       "      <th>8</th>\n",
       "      <td>id</td>\n",
       "      <td>0</td>\n",
       "      <td>100.0</td>\n",
       "    </tr>\n",
       "    <tr>\n",
       "      <th>9</th>\n",
       "      <td>prefixICAO</td>\n",
       "      <td>0</td>\n",
       "      <td>100.0</td>\n",
       "    </tr>\n",
       "    <tr>\n",
       "      <th>10</th>\n",
       "      <td>scheduleDate</td>\n",
       "      <td>0</td>\n",
       "      <td>100.0</td>\n",
       "    </tr>\n",
       "    <tr>\n",
       "      <th>11</th>\n",
       "      <td>scheduleTime</td>\n",
       "      <td>0</td>\n",
       "      <td>100.0</td>\n",
       "    </tr>\n",
       "    <tr>\n",
       "      <th>12</th>\n",
       "      <td>serviceType</td>\n",
       "      <td>0</td>\n",
       "      <td>100.0</td>\n",
       "    </tr>\n",
       "    <tr>\n",
       "      <th>13</th>\n",
       "      <td>terminal</td>\n",
       "      <td>0</td>\n",
       "      <td>100.0</td>\n",
       "    </tr>\n",
       "    <tr>\n",
       "      <th>14</th>\n",
       "      <td>n_dest</td>\n",
       "      <td>0</td>\n",
       "      <td>100.0</td>\n",
       "    </tr>\n",
       "    <tr>\n",
       "      <th>15</th>\n",
       "      <td>final_destination</td>\n",
       "      <td>0</td>\n",
       "      <td>100.0</td>\n",
       "    </tr>\n",
       "  </tbody>\n",
       "</table>\n",
       "</div>"
      ],
      "text/plain": [
       "                   variable  missing values  filling factor (%)\n",
       "0        actualOffBlockTime               0               100.0\n",
       "1     aircraftType.iatamain               0               100.0\n",
       "2      aircraftType.iatasub               0               100.0\n",
       "3      expectedTimeBoarding               0               100.0\n",
       "4   expectedTimeGateClosing               0               100.0\n",
       "5      expectedTimeGateOpen               0               100.0\n",
       "6           flightDirection               0               100.0\n",
       "7                      gate               0               100.0\n",
       "8                        id               0               100.0\n",
       "9                prefixICAO               0               100.0\n",
       "10             scheduleDate               0               100.0\n",
       "11             scheduleTime               0               100.0\n",
       "12              serviceType               0               100.0\n",
       "13                 terminal               0               100.0\n",
       "14                   n_dest               0               100.0\n",
       "15        final_destination               0               100.0"
      ]
     },
     "metadata": {},
     "output_type": "display_data"
    }
   ],
   "source": [
    "get_missing_values(fl)"
   ]
  },
  {
   "cell_type": "code",
   "execution_count": 12,
   "id": "brief-genesis",
   "metadata": {},
   "outputs": [
    {
     "data": {
      "text/plain": [
       "(388187, 16)"
      ]
     },
     "execution_count": 12,
     "metadata": {},
     "output_type": "execute_result"
    }
   ],
   "source": [
    "fl.shape"
   ]
  },
  {
   "cell_type": "code",
   "execution_count": 13,
   "id": "cleared-macro",
   "metadata": {},
   "outputs": [
    {
     "data": {
      "text/html": [
       "<div>\n",
       "<style scoped>\n",
       "    .dataframe tbody tr th:only-of-type {\n",
       "        vertical-align: middle;\n",
       "    }\n",
       "\n",
       "    .dataframe tbody tr th {\n",
       "        vertical-align: top;\n",
       "    }\n",
       "\n",
       "    .dataframe thead th {\n",
       "        text-align: right;\n",
       "    }\n",
       "</style>\n",
       "<table border=\"1\" class=\"dataframe\">\n",
       "  <thead>\n",
       "    <tr style=\"text-align: right;\">\n",
       "      <th></th>\n",
       "      <th>actualOffBlockTime</th>\n",
       "      <th>aircraftType.iatamain</th>\n",
       "      <th>aircraftType.iatasub</th>\n",
       "      <th>expectedTimeBoarding</th>\n",
       "      <th>expectedTimeGateClosing</th>\n",
       "      <th>expectedTimeGateOpen</th>\n",
       "      <th>flightDirection</th>\n",
       "      <th>gate</th>\n",
       "      <th>id</th>\n",
       "      <th>prefixICAO</th>\n",
       "      <th>scheduleDate</th>\n",
       "      <th>scheduleTime</th>\n",
       "      <th>serviceType</th>\n",
       "      <th>terminal</th>\n",
       "      <th>n_dest</th>\n",
       "      <th>final_destination</th>\n",
       "    </tr>\n",
       "  </thead>\n",
       "  <tbody>\n",
       "    <tr>\n",
       "      <th>19</th>\n",
       "      <td>2018-01-01T06:48:51.000+01:00</td>\n",
       "      <td>EMJ</td>\n",
       "      <td>E90</td>\n",
       "      <td>2018-01-01T06:25:00.000+01:00</td>\n",
       "      <td>2018-01-01T06:35:00.000+01:00</td>\n",
       "      <td>2018-01-01T06:20:00.000+01:00</td>\n",
       "      <td>D</td>\n",
       "      <td>B28</td>\n",
       "      <td>123414479666450001</td>\n",
       "      <td>KLM</td>\n",
       "      <td>2018-01-01</td>\n",
       "      <td>06:50:00</td>\n",
       "      <td>J</td>\n",
       "      <td>1.0</td>\n",
       "      <td>1</td>\n",
       "      <td>DUS</td>\n",
       "    </tr>\n",
       "    <tr>\n",
       "      <th>20</th>\n",
       "      <td>2018-01-01T06:51:30.000+01:00</td>\n",
       "      <td>EMJ</td>\n",
       "      <td>E90</td>\n",
       "      <td>2018-01-01T06:25:00.000+01:00</td>\n",
       "      <td>2018-01-01T06:35:00.000+01:00</td>\n",
       "      <td>2018-01-01T06:20:00.000+01:00</td>\n",
       "      <td>D</td>\n",
       "      <td>B32</td>\n",
       "      <td>123414478610028441</td>\n",
       "      <td>CSN</td>\n",
       "      <td>2018-01-01</td>\n",
       "      <td>06:50:00</td>\n",
       "      <td>J</td>\n",
       "      <td>1.0</td>\n",
       "      <td>1</td>\n",
       "      <td>BRU</td>\n",
       "    </tr>\n",
       "    <tr>\n",
       "      <th>21</th>\n",
       "      <td>2018-01-01T06:51:30.000+01:00</td>\n",
       "      <td>EMJ</td>\n",
       "      <td>E90</td>\n",
       "      <td>2018-01-01T06:25:00.000+01:00</td>\n",
       "      <td>2018-01-01T06:35:00.000+01:00</td>\n",
       "      <td>2018-01-01T06:20:00.000+01:00</td>\n",
       "      <td>D</td>\n",
       "      <td>B32</td>\n",
       "      <td>123414479922149375</td>\n",
       "      <td>CXA</td>\n",
       "      <td>2018-01-01</td>\n",
       "      <td>06:50:00</td>\n",
       "      <td>J</td>\n",
       "      <td>1.0</td>\n",
       "      <td>1</td>\n",
       "      <td>BRU</td>\n",
       "    </tr>\n",
       "    <tr>\n",
       "      <th>22</th>\n",
       "      <td>2018-01-01T06:51:30.000+01:00</td>\n",
       "      <td>EMJ</td>\n",
       "      <td>E90</td>\n",
       "      <td>2018-01-01T06:25:00.000+01:00</td>\n",
       "      <td>2018-01-01T06:35:00.000+01:00</td>\n",
       "      <td>2018-01-01T06:20:00.000+01:00</td>\n",
       "      <td>D</td>\n",
       "      <td>B32</td>\n",
       "      <td>123414479929232511</td>\n",
       "      <td>MAS</td>\n",
       "      <td>2018-01-01</td>\n",
       "      <td>06:50:00</td>\n",
       "      <td>J</td>\n",
       "      <td>1.0</td>\n",
       "      <td>1</td>\n",
       "      <td>BRU</td>\n",
       "    </tr>\n",
       "    <tr>\n",
       "      <th>24</th>\n",
       "      <td>2018-01-01T06:57:39.000+01:00</td>\n",
       "      <td>73H</td>\n",
       "      <td>73H</td>\n",
       "      <td>2018-01-01T06:20:00.000+01:00</td>\n",
       "      <td>2018-01-01T06:35:00.000+01:00</td>\n",
       "      <td>2018-01-01T05:50:00.000+01:00</td>\n",
       "      <td>D</td>\n",
       "      <td>C12</td>\n",
       "      <td>123414479071263641</td>\n",
       "      <td>GIA</td>\n",
       "      <td>2018-01-01</td>\n",
       "      <td>06:50:00</td>\n",
       "      <td>J</td>\n",
       "      <td>1.0</td>\n",
       "      <td>1</td>\n",
       "      <td>FCO</td>\n",
       "    </tr>\n",
       "  </tbody>\n",
       "</table>\n",
       "</div>"
      ],
      "text/plain": [
       "               actualOffBlockTime aircraftType.iatamain aircraftType.iatasub  \\\n",
       "19  2018-01-01T06:48:51.000+01:00                   EMJ                  E90   \n",
       "20  2018-01-01T06:51:30.000+01:00                   EMJ                  E90   \n",
       "21  2018-01-01T06:51:30.000+01:00                   EMJ                  E90   \n",
       "22  2018-01-01T06:51:30.000+01:00                   EMJ                  E90   \n",
       "24  2018-01-01T06:57:39.000+01:00                   73H                  73H   \n",
       "\n",
       "             expectedTimeBoarding        expectedTimeGateClosing  \\\n",
       "19  2018-01-01T06:25:00.000+01:00  2018-01-01T06:35:00.000+01:00   \n",
       "20  2018-01-01T06:25:00.000+01:00  2018-01-01T06:35:00.000+01:00   \n",
       "21  2018-01-01T06:25:00.000+01:00  2018-01-01T06:35:00.000+01:00   \n",
       "22  2018-01-01T06:25:00.000+01:00  2018-01-01T06:35:00.000+01:00   \n",
       "24  2018-01-01T06:20:00.000+01:00  2018-01-01T06:35:00.000+01:00   \n",
       "\n",
       "             expectedTimeGateOpen flightDirection gate                  id  \\\n",
       "19  2018-01-01T06:20:00.000+01:00               D  B28  123414479666450001   \n",
       "20  2018-01-01T06:20:00.000+01:00               D  B32  123414478610028441   \n",
       "21  2018-01-01T06:20:00.000+01:00               D  B32  123414479922149375   \n",
       "22  2018-01-01T06:20:00.000+01:00               D  B32  123414479929232511   \n",
       "24  2018-01-01T05:50:00.000+01:00               D  C12  123414479071263641   \n",
       "\n",
       "   prefixICAO scheduleDate scheduleTime serviceType  terminal  n_dest  \\\n",
       "19        KLM   2018-01-01     06:50:00           J       1.0       1   \n",
       "20        CSN   2018-01-01     06:50:00           J       1.0       1   \n",
       "21        CXA   2018-01-01     06:50:00           J       1.0       1   \n",
       "22        MAS   2018-01-01     06:50:00           J       1.0       1   \n",
       "24        GIA   2018-01-01     06:50:00           J       1.0       1   \n",
       "\n",
       "   final_destination  \n",
       "19               DUS  \n",
       "20               BRU  \n",
       "21               BRU  \n",
       "22               BRU  \n",
       "24               FCO  "
      ]
     },
     "execution_count": 13,
     "metadata": {},
     "output_type": "execute_result"
    }
   ],
   "source": [
    "fl.head()"
   ]
  },
  {
   "cell_type": "markdown",
   "id": "forced-grave",
   "metadata": {},
   "source": [
    "#### *Hoe gevarieerd zijn de variabelen?*"
   ]
  },
  {
   "cell_type": "code",
   "execution_count": 14,
   "id": "extensive-pixel",
   "metadata": {},
   "outputs": [
    {
     "data": {
      "text/plain": [
       "flightDirection                 1\n",
       "serviceType                     2\n",
       "n_dest                          2\n",
       "terminal                        3\n",
       "aircraftType.iatamain          30\n",
       "aircraftType.iatasub           42\n",
       "prefixICAO                     73\n",
       "gate                          137\n",
       "scheduleTime                  192\n",
       "scheduleDate                  193\n",
       "final_destination             200\n",
       "expectedTimeGateClosing     32141\n",
       "expectedTimeGateOpen        32603\n",
       "expectedTimeBoarding        32772\n",
       "actualOffBlockTime          75554\n",
       "id                         380662\n",
       "dtype: int64"
      ]
     },
     "execution_count": 14,
     "metadata": {},
     "output_type": "execute_result"
    }
   ],
   "source": [
    "fl.nunique().sort_values()"
   ]
  },
  {
   "cell_type": "markdown",
   "id": "chief-intent",
   "metadata": {},
   "source": [
    "`flightDirection`,`serviceType` hebben erg weinig verschillende waarden (niet handig vor training), het aantal verschillende waarden voor `gate` is erg hoog. Dit vraagt om wat nader onderzoek. "
   ]
  },
  {
   "cell_type": "code",
   "execution_count": 15,
   "id": "joint-personal",
   "metadata": {},
   "outputs": [
    {
     "data": {
      "text/plain": [
       "J    388179\n",
       "C         8\n",
       "Name: serviceType, dtype: int64"
      ]
     },
     "metadata": {},
     "output_type": "display_data"
    },
    {
     "data": {
      "text/plain": [
       "D    388187\n",
       "Name: flightDirection, dtype: int64"
      ]
     },
     "metadata": {},
     "output_type": "display_data"
    },
    {
     "data": {
      "text/plain": [
       "D06    47247\n",
       "B18    12483\n",
       "B02    11890\n",
       "B16     8715\n",
       "B04     8244\n",
       "       ...  \n",
       "C24      102\n",
       "G16       84\n",
       "G13       79\n",
       "G14       64\n",
       "G11       36\n",
       "Name: gate, Length: 137, dtype: int64"
      ]
     },
     "metadata": {},
     "output_type": "display_data"
    }
   ],
   "source": [
    "display(fl['serviceType'].value_counts())\n",
    "display(fl['flightDirection'].value_counts())\n",
    "display(fl['gate'].value_counts())"
   ]
  },
  {
   "cell_type": "markdown",
   "id": "metropolitan-authorization",
   "metadata": {},
   "source": [
    "`flightDirection` heeft maar 8 waarden die niet J zijn maar C en `serviceType` heeft maar een categorie('D' of 'Departing flights'). Beide scenario's kunnen dus beter weggelaten worden. Voor `gate` pak ik alleen de eerste letter in plaats van letter en gate nummer. Dit om de hoeveelheid variabelen en waarden voor training te minimaliseren in de hoop een beter model te krijgen. "
   ]
  },
  {
   "cell_type": "code",
   "execution_count": 16,
   "id": "valued-emphasis",
   "metadata": {},
   "outputs": [],
   "source": [
    "fl = fl.query(\"serviceType=='J'\") # Delete C since only 8 cases in dataset\n",
    "fl.drop(columns=['serviceType','flightDirection'],inplace=True) # Delete constants\n",
    "fl['gate'] = fl['gate'].str[0] #Too many options, therefore use only the first character for gate variable"
   ]
  },
  {
   "cell_type": "code",
   "execution_count": 17,
   "id": "descending-finder",
   "metadata": {
    "scrolled": true
   },
   "outputs": [
    {
     "data": {
      "text/plain": [
       "D    158314\n",
       "B    118534\n",
       "C     72462\n",
       "E     22185\n",
       "F     13169\n",
       "G      3515\n",
       "Name: gate, dtype: int64"
      ]
     },
     "execution_count": 17,
     "metadata": {},
     "output_type": "execute_result"
    }
   ],
   "source": [
    "fl.gate.value_counts()"
   ]
  },
  {
   "cell_type": "code",
   "execution_count": 18,
   "id": "linear-concrete",
   "metadata": {},
   "outputs": [
    {
     "data": {
      "text/html": [
       "<div>\n",
       "<style scoped>\n",
       "    .dataframe tbody tr th:only-of-type {\n",
       "        vertical-align: middle;\n",
       "    }\n",
       "\n",
       "    .dataframe tbody tr th {\n",
       "        vertical-align: top;\n",
       "    }\n",
       "\n",
       "    .dataframe thead th {\n",
       "        text-align: right;\n",
       "    }\n",
       "</style>\n",
       "<table border=\"1\" class=\"dataframe\">\n",
       "  <thead>\n",
       "    <tr style=\"text-align: right;\">\n",
       "      <th></th>\n",
       "      <th>actualOffBlockTime</th>\n",
       "      <th>aircraftType.iatamain</th>\n",
       "      <th>aircraftType.iatasub</th>\n",
       "      <th>expectedTimeBoarding</th>\n",
       "      <th>expectedTimeGateClosing</th>\n",
       "      <th>expectedTimeGateOpen</th>\n",
       "      <th>gate</th>\n",
       "      <th>id</th>\n",
       "      <th>prefixICAO</th>\n",
       "      <th>scheduleDate</th>\n",
       "      <th>scheduleTime</th>\n",
       "      <th>terminal</th>\n",
       "      <th>n_dest</th>\n",
       "      <th>final_destination</th>\n",
       "    </tr>\n",
       "  </thead>\n",
       "  <tbody>\n",
       "    <tr>\n",
       "      <th>19</th>\n",
       "      <td>2018-01-01T06:48:51.000+01:00</td>\n",
       "      <td>EMJ</td>\n",
       "      <td>E90</td>\n",
       "      <td>2018-01-01T06:25:00.000+01:00</td>\n",
       "      <td>2018-01-01T06:35:00.000+01:00</td>\n",
       "      <td>2018-01-01T06:20:00.000+01:00</td>\n",
       "      <td>B</td>\n",
       "      <td>123414479666450001</td>\n",
       "      <td>KLM</td>\n",
       "      <td>2018-01-01</td>\n",
       "      <td>06:50:00</td>\n",
       "      <td>1.0</td>\n",
       "      <td>1</td>\n",
       "      <td>DUS</td>\n",
       "    </tr>\n",
       "    <tr>\n",
       "      <th>20</th>\n",
       "      <td>2018-01-01T06:51:30.000+01:00</td>\n",
       "      <td>EMJ</td>\n",
       "      <td>E90</td>\n",
       "      <td>2018-01-01T06:25:00.000+01:00</td>\n",
       "      <td>2018-01-01T06:35:00.000+01:00</td>\n",
       "      <td>2018-01-01T06:20:00.000+01:00</td>\n",
       "      <td>B</td>\n",
       "      <td>123414478610028441</td>\n",
       "      <td>CSN</td>\n",
       "      <td>2018-01-01</td>\n",
       "      <td>06:50:00</td>\n",
       "      <td>1.0</td>\n",
       "      <td>1</td>\n",
       "      <td>BRU</td>\n",
       "    </tr>\n",
       "    <tr>\n",
       "      <th>21</th>\n",
       "      <td>2018-01-01T06:51:30.000+01:00</td>\n",
       "      <td>EMJ</td>\n",
       "      <td>E90</td>\n",
       "      <td>2018-01-01T06:25:00.000+01:00</td>\n",
       "      <td>2018-01-01T06:35:00.000+01:00</td>\n",
       "      <td>2018-01-01T06:20:00.000+01:00</td>\n",
       "      <td>B</td>\n",
       "      <td>123414479922149375</td>\n",
       "      <td>CXA</td>\n",
       "      <td>2018-01-01</td>\n",
       "      <td>06:50:00</td>\n",
       "      <td>1.0</td>\n",
       "      <td>1</td>\n",
       "      <td>BRU</td>\n",
       "    </tr>\n",
       "    <tr>\n",
       "      <th>22</th>\n",
       "      <td>2018-01-01T06:51:30.000+01:00</td>\n",
       "      <td>EMJ</td>\n",
       "      <td>E90</td>\n",
       "      <td>2018-01-01T06:25:00.000+01:00</td>\n",
       "      <td>2018-01-01T06:35:00.000+01:00</td>\n",
       "      <td>2018-01-01T06:20:00.000+01:00</td>\n",
       "      <td>B</td>\n",
       "      <td>123414479929232511</td>\n",
       "      <td>MAS</td>\n",
       "      <td>2018-01-01</td>\n",
       "      <td>06:50:00</td>\n",
       "      <td>1.0</td>\n",
       "      <td>1</td>\n",
       "      <td>BRU</td>\n",
       "    </tr>\n",
       "    <tr>\n",
       "      <th>24</th>\n",
       "      <td>2018-01-01T06:57:39.000+01:00</td>\n",
       "      <td>73H</td>\n",
       "      <td>73H</td>\n",
       "      <td>2018-01-01T06:20:00.000+01:00</td>\n",
       "      <td>2018-01-01T06:35:00.000+01:00</td>\n",
       "      <td>2018-01-01T05:50:00.000+01:00</td>\n",
       "      <td>C</td>\n",
       "      <td>123414479071263641</td>\n",
       "      <td>GIA</td>\n",
       "      <td>2018-01-01</td>\n",
       "      <td>06:50:00</td>\n",
       "      <td>1.0</td>\n",
       "      <td>1</td>\n",
       "      <td>FCO</td>\n",
       "    </tr>\n",
       "  </tbody>\n",
       "</table>\n",
       "</div>"
      ],
      "text/plain": [
       "               actualOffBlockTime aircraftType.iatamain aircraftType.iatasub  \\\n",
       "19  2018-01-01T06:48:51.000+01:00                   EMJ                  E90   \n",
       "20  2018-01-01T06:51:30.000+01:00                   EMJ                  E90   \n",
       "21  2018-01-01T06:51:30.000+01:00                   EMJ                  E90   \n",
       "22  2018-01-01T06:51:30.000+01:00                   EMJ                  E90   \n",
       "24  2018-01-01T06:57:39.000+01:00                   73H                  73H   \n",
       "\n",
       "             expectedTimeBoarding        expectedTimeGateClosing  \\\n",
       "19  2018-01-01T06:25:00.000+01:00  2018-01-01T06:35:00.000+01:00   \n",
       "20  2018-01-01T06:25:00.000+01:00  2018-01-01T06:35:00.000+01:00   \n",
       "21  2018-01-01T06:25:00.000+01:00  2018-01-01T06:35:00.000+01:00   \n",
       "22  2018-01-01T06:25:00.000+01:00  2018-01-01T06:35:00.000+01:00   \n",
       "24  2018-01-01T06:20:00.000+01:00  2018-01-01T06:35:00.000+01:00   \n",
       "\n",
       "             expectedTimeGateOpen gate                  id prefixICAO  \\\n",
       "19  2018-01-01T06:20:00.000+01:00    B  123414479666450001        KLM   \n",
       "20  2018-01-01T06:20:00.000+01:00    B  123414478610028441        CSN   \n",
       "21  2018-01-01T06:20:00.000+01:00    B  123414479922149375        CXA   \n",
       "22  2018-01-01T06:20:00.000+01:00    B  123414479929232511        MAS   \n",
       "24  2018-01-01T05:50:00.000+01:00    C  123414479071263641        GIA   \n",
       "\n",
       "   scheduleDate scheduleTime  terminal  n_dest final_destination  \n",
       "19   2018-01-01     06:50:00       1.0       1               DUS  \n",
       "20   2018-01-01     06:50:00       1.0       1               BRU  \n",
       "21   2018-01-01     06:50:00       1.0       1               BRU  \n",
       "22   2018-01-01     06:50:00       1.0       1               BRU  \n",
       "24   2018-01-01     06:50:00       1.0       1               FCO  "
      ]
     },
     "execution_count": 18,
     "metadata": {},
     "output_type": "execute_result"
    }
   ],
   "source": [
    "fl.head()"
   ]
  },
  {
   "cell_type": "markdown",
   "id": "scientific-consideration",
   "metadata": {},
   "source": [
    "Deze waarden zien er stukken beter uit en hebben zo waarschijnlijk meer voorspellende waarde. "
   ]
  },
  {
   "cell_type": "markdown",
   "id": "connected-sound",
   "metadata": {},
   "source": [
    "#### *Wat te doen met de vliegtuig type nummers?"
   ]
  },
  {
   "cell_type": "code",
   "execution_count": 19,
   "id": "threaded-slave",
   "metadata": {},
   "outputs": [
    {
     "data": {
      "text/plain": [
       "30"
      ]
     },
     "execution_count": 19,
     "metadata": {},
     "output_type": "execute_result"
    }
   ],
   "source": [
    "fl['aircraft_type_option1'] = fl['aircraftType.iatamain'] \n",
    "fl['aircraft_type_option1'].nunique()"
   ]
  },
  {
   "cell_type": "code",
   "execution_count": 20,
   "id": "twelve-eclipse",
   "metadata": {},
   "outputs": [
    {
     "data": {
      "text/plain": [
       "42"
      ]
     },
     "execution_count": 20,
     "metadata": {},
     "output_type": "execute_result"
    }
   ],
   "source": [
    "fl['aircraft_type_option2'] = fl['aircraftType.iatamain'] + '-' + fl['aircraftType.iatasub']\n",
    "fl['aircraft_type_option2'].nunique()"
   ]
  },
  {
   "cell_type": "code",
   "execution_count": 21,
   "id": "material-moses",
   "metadata": {},
   "outputs": [],
   "source": [
    "fl['aircraft_type'] = fl['aircraftType.iatamain'] "
   ]
  },
  {
   "cell_type": "code",
   "execution_count": 22,
   "id": "built-fourth",
   "metadata": {},
   "outputs": [],
   "source": [
    "fl.drop(columns=['aircraftType.iatamain','aircraftType.iatasub','aircraft_type_option1','aircraft_type_option2'],inplace=True)"
   ]
  },
  {
   "cell_type": "markdown",
   "id": "secret-great",
   "metadata": {},
   "source": [
    "# Determine delay"
   ]
  },
  {
   "cell_type": "code",
   "execution_count": 23,
   "id": "rising-documentary",
   "metadata": {},
   "outputs": [],
   "source": [
    "delay_threshold = 10 #after how many minutes the flight is labeled delayed, assumption for rest of the notebook\n",
    "\n",
    "fl['scheduleDatetime'] = pd.to_datetime(fl['scheduleDate'] + ' ' \n",
    "                                        + fl['scheduleTime']).dt.tz_localize('Europe/Amsterdam')\n",
    "fl['actualOffBlockTime'] = pd.to_datetime(fl['actualOffBlockTime'], utc=True).dt.tz_convert('Europe/Amsterdam')\n",
    "\n",
    "fl['delay'] = fl['actualOffBlockTime'].sub(fl['scheduleDatetime']).dt.total_seconds().div(60) #delay in minutes\n",
    "fl['delayed'] = np.where(fl['delay']>=delay_threshold,1,0)"
   ]
  },
  {
   "cell_type": "code",
   "execution_count": 24,
   "id": "smaller-onion",
   "metadata": {},
   "outputs": [
    {
     "data": {
      "text/html": [
       "<div>\n",
       "<style scoped>\n",
       "    .dataframe tbody tr th:only-of-type {\n",
       "        vertical-align: middle;\n",
       "    }\n",
       "\n",
       "    .dataframe tbody tr th {\n",
       "        vertical-align: top;\n",
       "    }\n",
       "\n",
       "    .dataframe thead th {\n",
       "        text-align: right;\n",
       "    }\n",
       "</style>\n",
       "<table border=\"1\" class=\"dataframe\">\n",
       "  <thead>\n",
       "    <tr style=\"text-align: right;\">\n",
       "      <th></th>\n",
       "      <th>actualOffBlockTime</th>\n",
       "      <th>expectedTimeBoarding</th>\n",
       "      <th>expectedTimeGateClosing</th>\n",
       "      <th>expectedTimeGateOpen</th>\n",
       "      <th>gate</th>\n",
       "      <th>id</th>\n",
       "      <th>prefixICAO</th>\n",
       "      <th>scheduleDate</th>\n",
       "      <th>scheduleTime</th>\n",
       "      <th>terminal</th>\n",
       "      <th>n_dest</th>\n",
       "      <th>final_destination</th>\n",
       "      <th>aircraft_type</th>\n",
       "      <th>scheduleDatetime</th>\n",
       "      <th>delay</th>\n",
       "      <th>delayed</th>\n",
       "    </tr>\n",
       "  </thead>\n",
       "  <tbody>\n",
       "    <tr>\n",
       "      <th>19</th>\n",
       "      <td>2018-01-01 06:48:51+01:00</td>\n",
       "      <td>2018-01-01T06:25:00.000+01:00</td>\n",
       "      <td>2018-01-01T06:35:00.000+01:00</td>\n",
       "      <td>2018-01-01T06:20:00.000+01:00</td>\n",
       "      <td>B</td>\n",
       "      <td>123414479666450001</td>\n",
       "      <td>KLM</td>\n",
       "      <td>2018-01-01</td>\n",
       "      <td>06:50:00</td>\n",
       "      <td>1.0</td>\n",
       "      <td>1</td>\n",
       "      <td>DUS</td>\n",
       "      <td>EMJ</td>\n",
       "      <td>2018-01-01 06:50:00+01:00</td>\n",
       "      <td>-1.15</td>\n",
       "      <td>0</td>\n",
       "    </tr>\n",
       "    <tr>\n",
       "      <th>20</th>\n",
       "      <td>2018-01-01 06:51:30+01:00</td>\n",
       "      <td>2018-01-01T06:25:00.000+01:00</td>\n",
       "      <td>2018-01-01T06:35:00.000+01:00</td>\n",
       "      <td>2018-01-01T06:20:00.000+01:00</td>\n",
       "      <td>B</td>\n",
       "      <td>123414478610028441</td>\n",
       "      <td>CSN</td>\n",
       "      <td>2018-01-01</td>\n",
       "      <td>06:50:00</td>\n",
       "      <td>1.0</td>\n",
       "      <td>1</td>\n",
       "      <td>BRU</td>\n",
       "      <td>EMJ</td>\n",
       "      <td>2018-01-01 06:50:00+01:00</td>\n",
       "      <td>1.50</td>\n",
       "      <td>0</td>\n",
       "    </tr>\n",
       "    <tr>\n",
       "      <th>21</th>\n",
       "      <td>2018-01-01 06:51:30+01:00</td>\n",
       "      <td>2018-01-01T06:25:00.000+01:00</td>\n",
       "      <td>2018-01-01T06:35:00.000+01:00</td>\n",
       "      <td>2018-01-01T06:20:00.000+01:00</td>\n",
       "      <td>B</td>\n",
       "      <td>123414479922149375</td>\n",
       "      <td>CXA</td>\n",
       "      <td>2018-01-01</td>\n",
       "      <td>06:50:00</td>\n",
       "      <td>1.0</td>\n",
       "      <td>1</td>\n",
       "      <td>BRU</td>\n",
       "      <td>EMJ</td>\n",
       "      <td>2018-01-01 06:50:00+01:00</td>\n",
       "      <td>1.50</td>\n",
       "      <td>0</td>\n",
       "    </tr>\n",
       "    <tr>\n",
       "      <th>22</th>\n",
       "      <td>2018-01-01 06:51:30+01:00</td>\n",
       "      <td>2018-01-01T06:25:00.000+01:00</td>\n",
       "      <td>2018-01-01T06:35:00.000+01:00</td>\n",
       "      <td>2018-01-01T06:20:00.000+01:00</td>\n",
       "      <td>B</td>\n",
       "      <td>123414479929232511</td>\n",
       "      <td>MAS</td>\n",
       "      <td>2018-01-01</td>\n",
       "      <td>06:50:00</td>\n",
       "      <td>1.0</td>\n",
       "      <td>1</td>\n",
       "      <td>BRU</td>\n",
       "      <td>EMJ</td>\n",
       "      <td>2018-01-01 06:50:00+01:00</td>\n",
       "      <td>1.50</td>\n",
       "      <td>0</td>\n",
       "    </tr>\n",
       "    <tr>\n",
       "      <th>24</th>\n",
       "      <td>2018-01-01 06:57:39+01:00</td>\n",
       "      <td>2018-01-01T06:20:00.000+01:00</td>\n",
       "      <td>2018-01-01T06:35:00.000+01:00</td>\n",
       "      <td>2018-01-01T05:50:00.000+01:00</td>\n",
       "      <td>C</td>\n",
       "      <td>123414479071263641</td>\n",
       "      <td>GIA</td>\n",
       "      <td>2018-01-01</td>\n",
       "      <td>06:50:00</td>\n",
       "      <td>1.0</td>\n",
       "      <td>1</td>\n",
       "      <td>FCO</td>\n",
       "      <td>73H</td>\n",
       "      <td>2018-01-01 06:50:00+01:00</td>\n",
       "      <td>7.65</td>\n",
       "      <td>0</td>\n",
       "    </tr>\n",
       "  </tbody>\n",
       "</table>\n",
       "</div>"
      ],
      "text/plain": [
       "          actualOffBlockTime           expectedTimeBoarding  \\\n",
       "19 2018-01-01 06:48:51+01:00  2018-01-01T06:25:00.000+01:00   \n",
       "20 2018-01-01 06:51:30+01:00  2018-01-01T06:25:00.000+01:00   \n",
       "21 2018-01-01 06:51:30+01:00  2018-01-01T06:25:00.000+01:00   \n",
       "22 2018-01-01 06:51:30+01:00  2018-01-01T06:25:00.000+01:00   \n",
       "24 2018-01-01 06:57:39+01:00  2018-01-01T06:20:00.000+01:00   \n",
       "\n",
       "          expectedTimeGateClosing           expectedTimeGateOpen gate  \\\n",
       "19  2018-01-01T06:35:00.000+01:00  2018-01-01T06:20:00.000+01:00    B   \n",
       "20  2018-01-01T06:35:00.000+01:00  2018-01-01T06:20:00.000+01:00    B   \n",
       "21  2018-01-01T06:35:00.000+01:00  2018-01-01T06:20:00.000+01:00    B   \n",
       "22  2018-01-01T06:35:00.000+01:00  2018-01-01T06:20:00.000+01:00    B   \n",
       "24  2018-01-01T06:35:00.000+01:00  2018-01-01T05:50:00.000+01:00    C   \n",
       "\n",
       "                    id prefixICAO scheduleDate scheduleTime  terminal  n_dest  \\\n",
       "19  123414479666450001        KLM   2018-01-01     06:50:00       1.0       1   \n",
       "20  123414478610028441        CSN   2018-01-01     06:50:00       1.0       1   \n",
       "21  123414479922149375        CXA   2018-01-01     06:50:00       1.0       1   \n",
       "22  123414479929232511        MAS   2018-01-01     06:50:00       1.0       1   \n",
       "24  123414479071263641        GIA   2018-01-01     06:50:00       1.0       1   \n",
       "\n",
       "   final_destination aircraft_type          scheduleDatetime  delay  delayed  \n",
       "19               DUS           EMJ 2018-01-01 06:50:00+01:00  -1.15        0  \n",
       "20               BRU           EMJ 2018-01-01 06:50:00+01:00   1.50        0  \n",
       "21               BRU           EMJ 2018-01-01 06:50:00+01:00   1.50        0  \n",
       "22               BRU           EMJ 2018-01-01 06:50:00+01:00   1.50        0  \n",
       "24               FCO           73H 2018-01-01 06:50:00+01:00   7.65        0  "
      ]
     },
     "execution_count": 24,
     "metadata": {},
     "output_type": "execute_result"
    }
   ],
   "source": [
    "fl.head()"
   ]
  },
  {
   "cell_type": "code",
   "execution_count": 25,
   "id": "extra-listening",
   "metadata": {},
   "outputs": [
    {
     "data": {
      "text/plain": [
       "0    240777\n",
       "1    147402\n",
       "Name: delayed, dtype: int64"
      ]
     },
     "execution_count": 25,
     "metadata": {},
     "output_type": "execute_result"
    }
   ],
   "source": [
    "fl['delayed'].value_counts()"
   ]
  },
  {
   "cell_type": "markdown",
   "id": "regional-bolivia",
   "metadata": {},
   "source": [
    "### Investigate delay, number of flights per carrier, delay per carrier"
   ]
  },
  {
   "cell_type": "code",
   "execution_count": 26,
   "id": "accessible-hawaiian",
   "metadata": {},
   "outputs": [
    {
     "data": {
      "text/plain": [
       "count    326649.000000\n",
       "mean         15.455710\n",
       "std          24.748113\n",
       "min           0.016667\n",
       "25%           3.883333\n",
       "50%           8.666667\n",
       "75%          17.883333\n",
       "max        1443.866667\n",
       "Name: delay, dtype: float64"
      ]
     },
     "metadata": {},
     "output_type": "display_data"
    },
    {
     "data": {
      "image/png": "[encoded data removed]",
      "text/plain": [
       "<Figure size 432x288 with 1 Axes>"
      ]
     },
     "metadata": {
      "needs_background": "light"
     },
     "output_type": "display_data"
    }
   ],
   "source": [
    "display(fl[fl['delay']>0]['delay'].describe())\n",
    "fl['delay'].describe()\n",
    "ax = sns.boxplot(x=fl['delay'])"
   ]
  },
  {
   "cell_type": "code",
   "execution_count": 27,
   "id": "entitled-vulnerability",
   "metadata": {},
   "outputs": [
    {
     "data": {
      "text/plain": [
       "count    383980.000000\n",
       "mean         11.155018\n",
       "std          15.392652\n",
       "min        -114.000000\n",
       "25%           1.750000\n",
       "50%           6.433333\n",
       "75%          15.016667\n",
       "max          99.933333\n",
       "Name: delay, dtype: float64"
      ]
     },
     "execution_count": 27,
     "metadata": {},
     "output_type": "execute_result"
    },
    {
     "data": {
      "image/png": "[encoded data removed]",
      "text/plain": [
       "<Figure size 432x288 with 1 Axes>"
      ]
     },
     "metadata": {
      "needs_background": "light"
     },
     "output_type": "display_data"
    }
   ],
   "source": [
    "sns.distplot(fl[fl['delay']<100]['delay'], hist=True, kde=False, \n",
    "             bins=int(200/5), color = 'blue',\n",
    "             hist_kws={'edgecolor':'black'})\n",
    "# Add labels\n",
    "plt.title('Histogram of Arrival Delays')\n",
    "plt.xlabel('Delay (min)')\n",
    "plt.ylabel('Flights')\n",
    "\n",
    "\n",
    "fl[fl['delay']<100]['delay'].describe()"
   ]
  },
  {
   "cell_type": "markdown",
   "id": "referenced-official",
   "metadata": {},
   "source": [
    "#### **Valt er iets te zeggen over de maatschappijen m.b.t. vertragingen?**"
   ]
  },
  {
   "cell_type": "code",
   "execution_count": 28,
   "id": "painful-seating",
   "metadata": {},
   "outputs": [
    {
     "data": {
      "text/plain": [
       "<AxesSubplot:ylabel='n_flights'>"
      ]
     },
     "execution_count": 28,
     "metadata": {},
     "output_type": "execute_result"
    },
    {
     "data": {
      "image/png": "[encoded data removed]",
      "text/plain": [
       "<Figure size 432x288 with 1 Axes>"
      ]
     },
     "metadata": {},
     "output_type": "display_data"
    }
   ],
   "source": [
    "n_flights = fl['prefixICAO'].value_counts().rename('n_flights')\n",
    "n_flights.plot.pie()"
   ]
  },
  {
   "cell_type": "code",
   "execution_count": 29,
   "id": "twenty-taxation",
   "metadata": {},
   "outputs": [],
   "source": [
    "avg_delay = fl.groupby('prefixICAO')['delay'].mean().rename('avg_delay')\n",
    "n_delays = fl.groupby('prefixICAO')['delayed'].sum().rename('n_delays')\n",
    "carrier_comparison = pd.merge(pd.merge(n_flights, avg_delay, left_index=True, right_index=True), n_delays, left_index=True, right_index=True)\n",
    "carrier_comparison['average_n_delay'] = carrier_comparison['n_delays'] / carrier_comparison['n_flights']"
   ]
  },
  {
   "cell_type": "markdown",
   "id": "affecting-expansion",
   "metadata": {},
   "source": [
    "#### **Hoe goed doen de maatschappijen het?**"
   ]
  },
  {
   "cell_type": "code",
   "execution_count": 30,
   "id": "published-artwork",
   "metadata": {},
   "outputs": [
    {
     "data": {
      "text/html": [
       "<th style=\"text-align:center\"><td style=\"vertical-align:top\"><h2>Top 10 - Average Delay</h2><table style=\"display:inline\" border=\"1\" class=\"dataframe\">\n",
       "  <thead>\n",
       "    <tr style=\"text-align: right;\">\n",
       "      <th></th>\n",
       "      <th>n_flights</th>\n",
       "      <th>avg_delay</th>\n",
       "      <th>n_delays</th>\n",
       "      <th>average_n_delay</th>\n",
       "    </tr>\n",
       "  </thead>\n",
       "  <tbody>\n",
       "    <tr>\n",
       "      <th>VLG</th>\n",
       "      <td>10</td>\n",
       "      <td>170.318333</td>\n",
       "      <td>9</td>\n",
       "      <td>0.900000</td>\n",
       "    </tr>\n",
       "    <tr>\n",
       "      <th>IBE</th>\n",
       "      <td>10</td>\n",
       "      <td>170.318333</td>\n",
       "      <td>9</td>\n",
       "      <td>0.900000</td>\n",
       "    </tr>\n",
       "    <tr>\n",
       "      <th>SRK</th>\n",
       "      <td>5</td>\n",
       "      <td>133.743333</td>\n",
       "      <td>5</td>\n",
       "      <td>1.000000</td>\n",
       "    </tr>\n",
       "    <tr>\n",
       "      <th>TVS</th>\n",
       "      <td>1</td>\n",
       "      <td>102.350000</td>\n",
       "      <td>1</td>\n",
       "      <td>1.000000</td>\n",
       "    </tr>\n",
       "    <tr>\n",
       "      <th>TRA</th>\n",
       "      <td>18</td>\n",
       "      <td>85.615741</td>\n",
       "      <td>16</td>\n",
       "      <td>0.888889</td>\n",
       "    </tr>\n",
       "    <tr>\n",
       "      <th>DTA</th>\n",
       "      <td>87</td>\n",
       "      <td>68.741571</td>\n",
       "      <td>20</td>\n",
       "      <td>0.229885</td>\n",
       "    </tr>\n",
       "    <tr>\n",
       "      <th>EZY</th>\n",
       "      <td>1</td>\n",
       "      <td>48.800000</td>\n",
       "      <td>1</td>\n",
       "      <td>1.000000</td>\n",
       "    </tr>\n",
       "    <tr>\n",
       "      <th>TAP</th>\n",
       "      <td>113</td>\n",
       "      <td>42.348820</td>\n",
       "      <td>112</td>\n",
       "      <td>0.991150</td>\n",
       "    </tr>\n",
       "    <tr>\n",
       "      <th>MSR</th>\n",
       "      <td>197</td>\n",
       "      <td>39.087056</td>\n",
       "      <td>181</td>\n",
       "      <td>0.918782</td>\n",
       "    </tr>\n",
       "    <tr>\n",
       "      <th>RAM</th>\n",
       "      <td>220</td>\n",
       "      <td>37.802803</td>\n",
       "      <td>125</td>\n",
       "      <td>0.568182</td>\n",
       "    </tr>\n",
       "  </tbody>\n",
       "</table style=\"display:inline\"></td></th><th style=\"text-align:center\"><td style=\"vertical-align:top\"><h2>Bottom 10  - Average Delay</h2><table style=\"display:inline\" border=\"1\" class=\"dataframe\">\n",
       "  <thead>\n",
       "    <tr style=\"text-align: right;\">\n",
       "      <th></th>\n",
       "      <th>n_flights</th>\n",
       "      <th>avg_delay</th>\n",
       "      <th>n_delays</th>\n",
       "      <th>average_n_delay</th>\n",
       "    </tr>\n",
       "  </thead>\n",
       "  <tbody>\n",
       "    <tr>\n",
       "      <th>HVN</th>\n",
       "      <td>557</td>\n",
       "      <td>11.196230</td>\n",
       "      <td>200</td>\n",
       "      <td>0.359066</td>\n",
       "    </tr>\n",
       "    <tr>\n",
       "      <th>ASL</th>\n",
       "      <td>249</td>\n",
       "      <td>11.012851</td>\n",
       "      <td>86</td>\n",
       "      <td>0.345382</td>\n",
       "    </tr>\n",
       "    <tr>\n",
       "      <th>MAS</th>\n",
       "      <td>5568</td>\n",
       "      <td>10.900353</td>\n",
       "      <td>1845</td>\n",
       "      <td>0.331358</td>\n",
       "    </tr>\n",
       "    <tr>\n",
       "      <th>ETD</th>\n",
       "      <td>10773</td>\n",
       "      <td>10.758484</td>\n",
       "      <td>3400</td>\n",
       "      <td>0.315604</td>\n",
       "    </tr>\n",
       "    <tr>\n",
       "      <th>BCY</th>\n",
       "      <td>2353</td>\n",
       "      <td>10.616985</td>\n",
       "      <td>747</td>\n",
       "      <td>0.317467</td>\n",
       "    </tr>\n",
       "    <tr>\n",
       "      <th>AZA</th>\n",
       "      <td>7707</td>\n",
       "      <td>10.420791</td>\n",
       "      <td>2379</td>\n",
       "      <td>0.308680</td>\n",
       "    </tr>\n",
       "    <tr>\n",
       "      <th>AFL</th>\n",
       "      <td>17626</td>\n",
       "      <td>10.137085</td>\n",
       "      <td>5539</td>\n",
       "      <td>0.314252</td>\n",
       "    </tr>\n",
       "    <tr>\n",
       "      <th>KZR</th>\n",
       "      <td>275</td>\n",
       "      <td>7.698364</td>\n",
       "      <td>57</td>\n",
       "      <td>0.207273</td>\n",
       "    </tr>\n",
       "    <tr>\n",
       "      <th>QTR</th>\n",
       "      <td>186</td>\n",
       "      <td>7.687455</td>\n",
       "      <td>49</td>\n",
       "      <td>0.263441</td>\n",
       "    </tr>\n",
       "    <tr>\n",
       "      <th>MLT</th>\n",
       "      <td>1</td>\n",
       "      <td>-4.000000</td>\n",
       "      <td>0</td>\n",
       "      <td>0.000000</td>\n",
       "    </tr>\n",
       "  </tbody>\n",
       "</table style=\"display:inline\"></td></th>"
      ]
     },
     "metadata": {},
     "output_type": "display_data"
    }
   ],
   "source": [
    "display_side_by_side(carrier_comparison.sort_values('avg_delay', ascending=False).head(10),\n",
    "                     carrier_comparison.sort_values('avg_delay', ascending=False).tail(10), titles=['Top 10 - Average Delay','Bottom 10  - Average Delay'])"
   ]
  },
  {
   "cell_type": "code",
   "execution_count": 31,
   "id": "outer-setup",
   "metadata": {
    "scrolled": true
   },
   "outputs": [
    {
     "data": {
      "text/html": [
       "<th style=\"text-align:center\"><td style=\"vertical-align:top\"><h2>Top 20 - Proportion Delayed</h2><table style=\"display:inline\" border=\"1\" class=\"dataframe\">\n",
       "  <thead>\n",
       "    <tr style=\"text-align: right;\">\n",
       "      <th></th>\n",
       "      <th>n_flights</th>\n",
       "      <th>avg_delay</th>\n",
       "      <th>n_delays</th>\n",
       "      <th>average_n_delay</th>\n",
       "    </tr>\n",
       "  </thead>\n",
       "  <tbody>\n",
       "    <tr>\n",
       "      <th>TVS</th>\n",
       "      <td>1</td>\n",
       "      <td>102.350000</td>\n",
       "      <td>1</td>\n",
       "      <td>1.000000</td>\n",
       "    </tr>\n",
       "    <tr>\n",
       "      <th>EZY</th>\n",
       "      <td>1</td>\n",
       "      <td>48.800000</td>\n",
       "      <td>1</td>\n",
       "      <td>1.000000</td>\n",
       "    </tr>\n",
       "    <tr>\n",
       "      <th>TVF</th>\n",
       "      <td>1</td>\n",
       "      <td>25.783333</td>\n",
       "      <td>1</td>\n",
       "      <td>1.000000</td>\n",
       "    </tr>\n",
       "    <tr>\n",
       "      <th>AUA</th>\n",
       "      <td>1</td>\n",
       "      <td>19.300000</td>\n",
       "      <td>1</td>\n",
       "      <td>1.000000</td>\n",
       "    </tr>\n",
       "    <tr>\n",
       "      <th>TGZ</th>\n",
       "      <td>1</td>\n",
       "      <td>22.033333</td>\n",
       "      <td>1</td>\n",
       "      <td>1.000000</td>\n",
       "    </tr>\n",
       "    <tr>\n",
       "      <th>SRK</th>\n",
       "      <td>5</td>\n",
       "      <td>133.743333</td>\n",
       "      <td>5</td>\n",
       "      <td>1.000000</td>\n",
       "    </tr>\n",
       "    <tr>\n",
       "      <th>TAP</th>\n",
       "      <td>113</td>\n",
       "      <td>42.348820</td>\n",
       "      <td>112</td>\n",
       "      <td>0.991150</td>\n",
       "    </tr>\n",
       "    <tr>\n",
       "      <th>VIR</th>\n",
       "      <td>17</td>\n",
       "      <td>31.602941</td>\n",
       "      <td>16</td>\n",
       "      <td>0.941176</td>\n",
       "    </tr>\n",
       "    <tr>\n",
       "      <th>MSR</th>\n",
       "      <td>197</td>\n",
       "      <td>39.087056</td>\n",
       "      <td>181</td>\n",
       "      <td>0.918782</td>\n",
       "    </tr>\n",
       "    <tr>\n",
       "      <th>VLG</th>\n",
       "      <td>10</td>\n",
       "      <td>170.318333</td>\n",
       "      <td>9</td>\n",
       "      <td>0.900000</td>\n",
       "    </tr>\n",
       "  </tbody>\n",
       "</table style=\"display:inline\"></td></th><th style=\"text-align:center\"><td style=\"vertical-align:top\"><h2>Bottom 20 - Proportion Delayed</h2><table style=\"display:inline\" border=\"1\" class=\"dataframe\">\n",
       "  <thead>\n",
       "    <tr style=\"text-align: right;\">\n",
       "      <th></th>\n",
       "      <th>n_flights</th>\n",
       "      <th>avg_delay</th>\n",
       "      <th>n_delays</th>\n",
       "      <th>average_n_delay</th>\n",
       "    </tr>\n",
       "  </thead>\n",
       "  <tbody>\n",
       "    <tr>\n",
       "      <th>KAL</th>\n",
       "      <td>2335</td>\n",
       "      <td>11.653362</td>\n",
       "      <td>793</td>\n",
       "      <td>0.339615</td>\n",
       "    </tr>\n",
       "    <tr>\n",
       "      <th>MAS</th>\n",
       "      <td>5568</td>\n",
       "      <td>10.900353</td>\n",
       "      <td>1845</td>\n",
       "      <td>0.331358</td>\n",
       "    </tr>\n",
       "    <tr>\n",
       "      <th>BCY</th>\n",
       "      <td>2353</td>\n",
       "      <td>10.616985</td>\n",
       "      <td>747</td>\n",
       "      <td>0.317467</td>\n",
       "    </tr>\n",
       "    <tr>\n",
       "      <th>ETD</th>\n",
       "      <td>10773</td>\n",
       "      <td>10.758484</td>\n",
       "      <td>3400</td>\n",
       "      <td>0.315604</td>\n",
       "    </tr>\n",
       "    <tr>\n",
       "      <th>AFL</th>\n",
       "      <td>17626</td>\n",
       "      <td>10.137085</td>\n",
       "      <td>5539</td>\n",
       "      <td>0.314252</td>\n",
       "    </tr>\n",
       "    <tr>\n",
       "      <th>AZA</th>\n",
       "      <td>7707</td>\n",
       "      <td>10.420791</td>\n",
       "      <td>2379</td>\n",
       "      <td>0.308680</td>\n",
       "    </tr>\n",
       "    <tr>\n",
       "      <th>QTR</th>\n",
       "      <td>186</td>\n",
       "      <td>7.687455</td>\n",
       "      <td>49</td>\n",
       "      <td>0.263441</td>\n",
       "    </tr>\n",
       "    <tr>\n",
       "      <th>DTA</th>\n",
       "      <td>87</td>\n",
       "      <td>68.741571</td>\n",
       "      <td>20</td>\n",
       "      <td>0.229885</td>\n",
       "    </tr>\n",
       "    <tr>\n",
       "      <th>KZR</th>\n",
       "      <td>275</td>\n",
       "      <td>7.698364</td>\n",
       "      <td>57</td>\n",
       "      <td>0.207273</td>\n",
       "    </tr>\n",
       "    <tr>\n",
       "      <th>MLT</th>\n",
       "      <td>1</td>\n",
       "      <td>-4.000000</td>\n",
       "      <td>0</td>\n",
       "      <td>0.000000</td>\n",
       "    </tr>\n",
       "  </tbody>\n",
       "</table style=\"display:inline\"></td></th>"
      ]
     },
     "metadata": {},
     "output_type": "display_data"
    }
   ],
   "source": [
    "display_side_by_side(carrier_comparison.sort_values('average_n_delay', ascending=False).head(10),\n",
    "                     carrier_comparison.sort_values('average_n_delay', ascending=False).tail(10), titles=['Top 20 - Proportion Delayed','Bottom 20 - Proportion Delayed'])"
   ]
  },
  {
   "cell_type": "code",
   "execution_count": 32,
   "id": "fitted-payroll",
   "metadata": {},
   "outputs": [
    {
     "data": {
      "text/plain": [
       "count     71.000000\n",
       "mean      26.386215\n",
       "std       32.571945\n",
       "min       -4.000000\n",
       "25%       12.593893\n",
       "50%       15.487941\n",
       "75%       22.741931\n",
       "max      170.318333\n",
       "Name: avg_delay, dtype: float64"
      ]
     },
     "execution_count": 32,
     "metadata": {},
     "output_type": "execute_result"
    },
    {
     "data": {
      "image/png": "[encoded data removed]",
      "text/plain": [
       "<Figure size 432x288 with 1 Axes>"
      ]
     },
     "metadata": {
      "needs_background": "light"
     },
     "output_type": "display_data"
    }
   ],
   "source": [
    "sns.distplot(carrier_comparison['avg_delay'], hist=True, kde=False, #dataframe sliced for readability\n",
    "             bins=int(200/5), color = 'blue',\n",
    "             hist_kws={'edgecolor':'black'})\n",
    "# Add labels\n",
    "plt.title('Histogram of Average Delay')\n",
    "plt.xlabel('Delay (min)')\n",
    "plt.ylabel('Carriers')\n",
    "carrier_comparison['avg_delay'].describe()"
   ]
  },
  {
   "cell_type": "code",
   "execution_count": null,
   "id": "higher-ordinance",
   "metadata": {},
   "outputs": [],
   "source": [
    "ax = sns.boxplot(x=carrier_comparison['avg_delay'])\n",
    "carrier_comparison['avg_delay'].describe()"
   ]
  },
  {
   "cell_type": "markdown",
   "id": "determined-poland",
   "metadata": {},
   "source": [
    "### Feature Engineering voor Training"
   ]
  },
  {
   "cell_type": "code",
   "execution_count": 33,
   "id": "outdoor-hampshire",
   "metadata": {},
   "outputs": [],
   "source": [
    "fl.drop(columns=['scheduleTime','scheduleDate','actualOffBlockTime'],inplace=True)"
   ]
  },
  {
   "cell_type": "code",
   "execution_count": 34,
   "id": "caroline-dominican",
   "metadata": {},
   "outputs": [
    {
     "data": {
      "text/html": [
       "<div>\n",
       "<style scoped>\n",
       "    .dataframe tbody tr th:only-of-type {\n",
       "        vertical-align: middle;\n",
       "    }\n",
       "\n",
       "    .dataframe tbody tr th {\n",
       "        vertical-align: top;\n",
       "    }\n",
       "\n",
       "    .dataframe thead th {\n",
       "        text-align: right;\n",
       "    }\n",
       "</style>\n",
       "<table border=\"1\" class=\"dataframe\">\n",
       "  <thead>\n",
       "    <tr style=\"text-align: right;\">\n",
       "      <th></th>\n",
       "      <th>expectedTimeBoarding</th>\n",
       "      <th>expectedTimeGateClosing</th>\n",
       "      <th>expectedTimeGateOpen</th>\n",
       "      <th>gate</th>\n",
       "      <th>id</th>\n",
       "      <th>prefixICAO</th>\n",
       "      <th>terminal</th>\n",
       "      <th>n_dest</th>\n",
       "      <th>final_destination</th>\n",
       "      <th>aircraft_type</th>\n",
       "      <th>scheduleDatetime</th>\n",
       "      <th>delay</th>\n",
       "      <th>delayed</th>\n",
       "    </tr>\n",
       "  </thead>\n",
       "  <tbody>\n",
       "    <tr>\n",
       "      <th>19</th>\n",
       "      <td>2018-01-01T06:25:00.000+01:00</td>\n",
       "      <td>2018-01-01T06:35:00.000+01:00</td>\n",
       "      <td>2018-01-01T06:20:00.000+01:00</td>\n",
       "      <td>B</td>\n",
       "      <td>123414479666450001</td>\n",
       "      <td>KLM</td>\n",
       "      <td>1.0</td>\n",
       "      <td>1</td>\n",
       "      <td>DUS</td>\n",
       "      <td>EMJ</td>\n",
       "      <td>2018-01-01 06:50:00+01:00</td>\n",
       "      <td>-1.15</td>\n",
       "      <td>0</td>\n",
       "    </tr>\n",
       "    <tr>\n",
       "      <th>20</th>\n",
       "      <td>2018-01-01T06:25:00.000+01:00</td>\n",
       "      <td>2018-01-01T06:35:00.000+01:00</td>\n",
       "      <td>2018-01-01T06:20:00.000+01:00</td>\n",
       "      <td>B</td>\n",
       "      <td>123414478610028441</td>\n",
       "      <td>CSN</td>\n",
       "      <td>1.0</td>\n",
       "      <td>1</td>\n",
       "      <td>BRU</td>\n",
       "      <td>EMJ</td>\n",
       "      <td>2018-01-01 06:50:00+01:00</td>\n",
       "      <td>1.50</td>\n",
       "      <td>0</td>\n",
       "    </tr>\n",
       "    <tr>\n",
       "      <th>21</th>\n",
       "      <td>2018-01-01T06:25:00.000+01:00</td>\n",
       "      <td>2018-01-01T06:35:00.000+01:00</td>\n",
       "      <td>2018-01-01T06:20:00.000+01:00</td>\n",
       "      <td>B</td>\n",
       "      <td>123414479922149375</td>\n",
       "      <td>CXA</td>\n",
       "      <td>1.0</td>\n",
       "      <td>1</td>\n",
       "      <td>BRU</td>\n",
       "      <td>EMJ</td>\n",
       "      <td>2018-01-01 06:50:00+01:00</td>\n",
       "      <td>1.50</td>\n",
       "      <td>0</td>\n",
       "    </tr>\n",
       "    <tr>\n",
       "      <th>22</th>\n",
       "      <td>2018-01-01T06:25:00.000+01:00</td>\n",
       "      <td>2018-01-01T06:35:00.000+01:00</td>\n",
       "      <td>2018-01-01T06:20:00.000+01:00</td>\n",
       "      <td>B</td>\n",
       "      <td>123414479929232511</td>\n",
       "      <td>MAS</td>\n",
       "      <td>1.0</td>\n",
       "      <td>1</td>\n",
       "      <td>BRU</td>\n",
       "      <td>EMJ</td>\n",
       "      <td>2018-01-01 06:50:00+01:00</td>\n",
       "      <td>1.50</td>\n",
       "      <td>0</td>\n",
       "    </tr>\n",
       "    <tr>\n",
       "      <th>24</th>\n",
       "      <td>2018-01-01T06:20:00.000+01:00</td>\n",
       "      <td>2018-01-01T06:35:00.000+01:00</td>\n",
       "      <td>2018-01-01T05:50:00.000+01:00</td>\n",
       "      <td>C</td>\n",
       "      <td>123414479071263641</td>\n",
       "      <td>GIA</td>\n",
       "      <td>1.0</td>\n",
       "      <td>1</td>\n",
       "      <td>FCO</td>\n",
       "      <td>73H</td>\n",
       "      <td>2018-01-01 06:50:00+01:00</td>\n",
       "      <td>7.65</td>\n",
       "      <td>0</td>\n",
       "    </tr>\n",
       "  </tbody>\n",
       "</table>\n",
       "</div>"
      ],
      "text/plain": [
       "             expectedTimeBoarding        expectedTimeGateClosing  \\\n",
       "19  2018-01-01T06:25:00.000+01:00  2018-01-01T06:35:00.000+01:00   \n",
       "20  2018-01-01T06:25:00.000+01:00  2018-01-01T06:35:00.000+01:00   \n",
       "21  2018-01-01T06:25:00.000+01:00  2018-01-01T06:35:00.000+01:00   \n",
       "22  2018-01-01T06:25:00.000+01:00  2018-01-01T06:35:00.000+01:00   \n",
       "24  2018-01-01T06:20:00.000+01:00  2018-01-01T06:35:00.000+01:00   \n",
       "\n",
       "             expectedTimeGateOpen gate                  id prefixICAO  \\\n",
       "19  2018-01-01T06:20:00.000+01:00    B  123414479666450001        KLM   \n",
       "20  2018-01-01T06:20:00.000+01:00    B  123414478610028441        CSN   \n",
       "21  2018-01-01T06:20:00.000+01:00    B  123414479922149375        CXA   \n",
       "22  2018-01-01T06:20:00.000+01:00    B  123414479929232511        MAS   \n",
       "24  2018-01-01T05:50:00.000+01:00    C  123414479071263641        GIA   \n",
       "\n",
       "    terminal  n_dest final_destination aircraft_type  \\\n",
       "19       1.0       1               DUS           EMJ   \n",
       "20       1.0       1               BRU           EMJ   \n",
       "21       1.0       1               BRU           EMJ   \n",
       "22       1.0       1               BRU           EMJ   \n",
       "24       1.0       1               FCO           73H   \n",
       "\n",
       "            scheduleDatetime  delay  delayed  \n",
       "19 2018-01-01 06:50:00+01:00  -1.15        0  \n",
       "20 2018-01-01 06:50:00+01:00   1.50        0  \n",
       "21 2018-01-01 06:50:00+01:00   1.50        0  \n",
       "22 2018-01-01 06:50:00+01:00   1.50        0  \n",
       "24 2018-01-01 06:50:00+01:00   7.65        0  "
      ]
     },
     "execution_count": 34,
     "metadata": {},
     "output_type": "execute_result"
    }
   ],
   "source": [
    "fl.head()"
   ]
  },
  {
   "cell_type": "code",
   "execution_count": 35,
   "id": "brave-characteristic",
   "metadata": {},
   "outputs": [],
   "source": [
    "fl['expectedTimeGateClosing'] = pd.to_datetime(fl['expectedTimeGateClosing'], utc=True).dt.tz_convert('Europe/Amsterdam')\n",
    "fl['expectedTimeGateOpen'] = pd.to_datetime(fl['expectedTimeGateOpen'], utc=True).dt.tz_convert('Europe/Amsterdam')\n",
    "fl['expectedTimeBoarding'] = pd.to_datetime(fl['expectedTimeBoarding'], utc=True).dt.tz_convert('Europe/Amsterdam')"
   ]
  },
  {
   "cell_type": "code",
   "execution_count": 36,
   "id": "linear-counter",
   "metadata": {},
   "outputs": [],
   "source": [
    "fl['gate_open_time'] = fl['expectedTimeGateClosing'].sub(fl['expectedTimeGateOpen']).dt.total_seconds().div(60)\n",
    "fl['gate_open_to_departure_time'] = fl['scheduleDatetime'].sub(fl['expectedTimeGateOpen']).dt.total_seconds().div(60)\n",
    "fl['gate_closed_to_departure_time'] = fl['scheduleDatetime'].sub(fl['expectedTimeGateClosing']).dt.total_seconds().div(60)\n",
    "fl['boarding_to_departure_time'] = fl['scheduleDatetime'].sub(fl['expectedTimeBoarding']).dt.total_seconds().div(60)"
   ]
  },
  {
   "cell_type": "code",
   "execution_count": 37,
   "id": "ready-silly",
   "metadata": {},
   "outputs": [
    {
     "data": {
      "text/plain": [
       "count    388179.000000\n",
       "mean         51.360336\n",
       "std          25.931638\n",
       "min       -1350.000000\n",
       "25%          30.000000\n",
       "50%          60.000000\n",
       "75%          60.000000\n",
       "max         145.000000\n",
       "Name: gate_open_to_departure_time, dtype: float64"
      ]
     },
     "execution_count": 37,
     "metadata": {},
     "output_type": "execute_result"
    },
    {
     "data": {
      "image/png": "[encoded data removed]",
      "text/plain": [
       "<Figure size 432x288 with 1 Axes>"
      ]
     },
     "metadata": {
      "needs_background": "light"
     },
     "output_type": "display_data"
    }
   ],
   "source": [
    "sns.distplot(fl[fl['gate_open_to_departure_time']>=-100]['gate_open_to_departure_time'], hist=True, kde=False, #dataframe sliced for readability\n",
    "             bins=int(200/5), color = 'blue',\n",
    "             hist_kws={'edgecolor':'black'})\n",
    "# Add labels\n",
    "plt.title('Histogram of Average Delay')\n",
    "plt.xlabel('gate_open_to_departure_time (min)')\n",
    "plt.ylabel('Count')\n",
    "\n",
    "fl['gate_open_to_departure_time'].describe()"
   ]
  },
  {
   "cell_type": "code",
   "execution_count": 38,
   "id": "statutory-chinese",
   "metadata": {},
   "outputs": [
    {
     "data": {
      "text/plain": [
       "count    388179.000000\n",
       "mean         40.524925\n",
       "std          17.919415\n",
       "min          15.000000\n",
       "25%          15.000000\n",
       "50%          45.000000\n",
       "75%          45.000000\n",
       "max         125.000000\n",
       "Name: gate_open_time, dtype: float64"
      ]
     },
     "execution_count": 38,
     "metadata": {},
     "output_type": "execute_result"
    },
    {
     "data": {
      "image/png": "[encoded data removed]",
      "text/plain": [
       "<Figure size 432x288 with 1 Axes>"
      ]
     },
     "metadata": {
      "needs_background": "light"
     },
     "output_type": "display_data"
    }
   ],
   "source": [
    "sns.distplot(fl[fl['gate_open_time']>=-100]['gate_open_time'], hist=True, kde=False, #dataframe sliced for readability\n",
    "             bins=int(200/5), color = 'blue',\n",
    "             hist_kws={'edgecolor':'black'})\n",
    "# Add labels\n",
    "plt.title('Histogram of Average Delay')\n",
    "plt.xlabel('gate_open__time (min)')\n",
    "plt.ylabel('Count')\n",
    "\n",
    "fl['gate_open_time'].describe()"
   ]
  },
  {
   "cell_type": "code",
   "execution_count": 39,
   "id": "cultural-alfred",
   "metadata": {},
   "outputs": [
    {
     "data": {
      "text/plain": [
       "count    388179.000000\n",
       "mean         10.835411\n",
       "std          19.082844\n",
       "min       -1425.000000\n",
       "25%          15.000000\n",
       "50%          15.000000\n",
       "75%          15.000000\n",
       "max          55.000000\n",
       "Name: gate_closed_to_departure_time, dtype: float64"
      ]
     },
     "execution_count": 39,
     "metadata": {},
     "output_type": "execute_result"
    },
    {
     "data": {
      "image/png": "[encoded data removed]",
      "text/plain": [
       "<Figure size 432x288 with 1 Axes>"
      ]
     },
     "metadata": {
      "needs_background": "light"
     },
     "output_type": "display_data"
    }
   ],
   "source": [
    "sns.distplot(fl[fl['gate_closed_to_departure_time']>=-60]['gate_closed_to_departure_time'], hist=True, kde=False, #dataframe sliced for readability\n",
    "             bins=int(200/5), color = 'blue',\n",
    "             hist_kws={'edgecolor':'black'})\n",
    "# Add labels\n",
    "plt.title('Histogram of Average Delay')\n",
    "plt.xlabel('gate_closed_to_departure_time (min)')\n",
    "plt.ylabel('Count')\n",
    "\n",
    "fl['gate_closed_to_departure_time'].describe()"
   ]
  },
  {
   "cell_type": "code",
   "execution_count": 40,
   "id": "fluid-manitoba",
   "metadata": {},
   "outputs": [
    {
     "data": {
      "text/plain": [
       "count    388179.000000\n",
       "mean         26.740993\n",
       "std          20.186825\n",
       "min       -1395.000000\n",
       "25%          25.000000\n",
       "50%          30.000000\n",
       "75%          30.000000\n",
       "max          80.000000\n",
       "Name: boarding_to_departure_time, dtype: float64"
      ]
     },
     "execution_count": 40,
     "metadata": {},
     "output_type": "execute_result"
    },
    {
     "data": {
      "image/png": "[encoded data removed]",
      "text/plain": [
       "<Figure size 432x288 with 1 Axes>"
      ]
     },
     "metadata": {
      "needs_background": "light"
     },
     "output_type": "display_data"
    }
   ],
   "source": [
    "sns.distplot(fl[fl['boarding_to_departure_time']>=-60]['boarding_to_departure_time'], hist=True, kde=False, #dataframe sliced for readability\n",
    "             bins=int(200/5), color = 'blue',\n",
    "             hist_kws={'edgecolor':'black'})\n",
    "# Add labels\n",
    "plt.title('Histogram of Average Delay')\n",
    "plt.xlabel('boarding_to_departure_time (min)')\n",
    "plt.ylabel('Count')\n",
    "\n",
    "fl['boarding_to_departure_time'].describe()"
   ]
  },
  {
   "cell_type": "code",
   "execution_count": 41,
   "id": "applied-webster",
   "metadata": {},
   "outputs": [],
   "source": [
    "fl.drop(columns=['expectedTimeGateOpen','expectedTimeGateClosing',\n",
    "                 'expectedTimeBoarding','gate_closed_to_departure_time','scheduleDatetime'],inplace=True)"
   ]
  },
  {
   "cell_type": "code",
   "execution_count": 42,
   "id": "arbitrary-dollar",
   "metadata": {},
   "outputs": [
    {
     "data": {
      "text/html": [
       "<div>\n",
       "<style scoped>\n",
       "    .dataframe tbody tr th:only-of-type {\n",
       "        vertical-align: middle;\n",
       "    }\n",
       "\n",
       "    .dataframe tbody tr th {\n",
       "        vertical-align: top;\n",
       "    }\n",
       "\n",
       "    .dataframe thead th {\n",
       "        text-align: right;\n",
       "    }\n",
       "</style>\n",
       "<table border=\"1\" class=\"dataframe\">\n",
       "  <thead>\n",
       "    <tr style=\"text-align: right;\">\n",
       "      <th></th>\n",
       "      <th>gate</th>\n",
       "      <th>id</th>\n",
       "      <th>prefixICAO</th>\n",
       "      <th>terminal</th>\n",
       "      <th>n_dest</th>\n",
       "      <th>final_destination</th>\n",
       "      <th>aircraft_type</th>\n",
       "      <th>delay</th>\n",
       "      <th>delayed</th>\n",
       "      <th>gate_open_time</th>\n",
       "      <th>gate_open_to_departure_time</th>\n",
       "      <th>boarding_to_departure_time</th>\n",
       "    </tr>\n",
       "  </thead>\n",
       "  <tbody>\n",
       "    <tr>\n",
       "      <th>19</th>\n",
       "      <td>B</td>\n",
       "      <td>123414479666450001</td>\n",
       "      <td>KLM</td>\n",
       "      <td>1.0</td>\n",
       "      <td>1</td>\n",
       "      <td>DUS</td>\n",
       "      <td>EMJ</td>\n",
       "      <td>-1.15</td>\n",
       "      <td>0</td>\n",
       "      <td>15.0</td>\n",
       "      <td>30.0</td>\n",
       "      <td>25.0</td>\n",
       "    </tr>\n",
       "    <tr>\n",
       "      <th>20</th>\n",
       "      <td>B</td>\n",
       "      <td>123414478610028441</td>\n",
       "      <td>CSN</td>\n",
       "      <td>1.0</td>\n",
       "      <td>1</td>\n",
       "      <td>BRU</td>\n",
       "      <td>EMJ</td>\n",
       "      <td>1.50</td>\n",
       "      <td>0</td>\n",
       "      <td>15.0</td>\n",
       "      <td>30.0</td>\n",
       "      <td>25.0</td>\n",
       "    </tr>\n",
       "    <tr>\n",
       "      <th>21</th>\n",
       "      <td>B</td>\n",
       "      <td>123414479922149375</td>\n",
       "      <td>CXA</td>\n",
       "      <td>1.0</td>\n",
       "      <td>1</td>\n",
       "      <td>BRU</td>\n",
       "      <td>EMJ</td>\n",
       "      <td>1.50</td>\n",
       "      <td>0</td>\n",
       "      <td>15.0</td>\n",
       "      <td>30.0</td>\n",
       "      <td>25.0</td>\n",
       "    </tr>\n",
       "    <tr>\n",
       "      <th>22</th>\n",
       "      <td>B</td>\n",
       "      <td>123414479929232511</td>\n",
       "      <td>MAS</td>\n",
       "      <td>1.0</td>\n",
       "      <td>1</td>\n",
       "      <td>BRU</td>\n",
       "      <td>EMJ</td>\n",
       "      <td>1.50</td>\n",
       "      <td>0</td>\n",
       "      <td>15.0</td>\n",
       "      <td>30.0</td>\n",
       "      <td>25.0</td>\n",
       "    </tr>\n",
       "    <tr>\n",
       "      <th>24</th>\n",
       "      <td>C</td>\n",
       "      <td>123414479071263641</td>\n",
       "      <td>GIA</td>\n",
       "      <td>1.0</td>\n",
       "      <td>1</td>\n",
       "      <td>FCO</td>\n",
       "      <td>73H</td>\n",
       "      <td>7.65</td>\n",
       "      <td>0</td>\n",
       "      <td>45.0</td>\n",
       "      <td>60.0</td>\n",
       "      <td>30.0</td>\n",
       "    </tr>\n",
       "  </tbody>\n",
       "</table>\n",
       "</div>"
      ],
      "text/plain": [
       "   gate                  id prefixICAO  terminal  n_dest final_destination  \\\n",
       "19    B  123414479666450001        KLM       1.0       1               DUS   \n",
       "20    B  123414478610028441        CSN       1.0       1               BRU   \n",
       "21    B  123414479922149375        CXA       1.0       1               BRU   \n",
       "22    B  123414479929232511        MAS       1.0       1               BRU   \n",
       "24    C  123414479071263641        GIA       1.0       1               FCO   \n",
       "\n",
       "   aircraft_type  delay  delayed  gate_open_time  gate_open_to_departure_time  \\\n",
       "19           EMJ  -1.15        0            15.0                         30.0   \n",
       "20           EMJ   1.50        0            15.0                         30.0   \n",
       "21           EMJ   1.50        0            15.0                         30.0   \n",
       "22           EMJ   1.50        0            15.0                         30.0   \n",
       "24           73H   7.65        0            45.0                         60.0   \n",
       "\n",
       "    boarding_to_departure_time  \n",
       "19                        25.0  \n",
       "20                        25.0  \n",
       "21                        25.0  \n",
       "22                        25.0  \n",
       "24                        30.0  "
      ]
     },
     "execution_count": 42,
     "metadata": {},
     "output_type": "execute_result"
    }
   ],
   "source": [
    "fl.head()"
   ]
  },
  {
   "cell_type": "code",
   "execution_count": null,
   "id": "indie-wilderness",
   "metadata": {},
   "outputs": [],
   "source": [
    "fl.columns"
   ]
  },
  {
   "cell_type": "markdown",
   "id": "mighty-facing",
   "metadata": {},
   "source": [
    "Duplicaten verwijderen, just in case"
   ]
  },
  {
   "cell_type": "code",
   "execution_count": 43,
   "id": "handed-result",
   "metadata": {},
   "outputs": [],
   "source": [
    "fl.drop_duplicates(inplace=True)"
   ]
  },
  {
   "cell_type": "markdown",
   "id": "enclosed-philip",
   "metadata": {},
   "source": [
    "Hoe zijn de daadwerkelijke labels nu verdeeld in de data?"
   ]
  },
  {
   "cell_type": "code",
   "execution_count": 44,
   "id": "junior-chancellor",
   "metadata": {},
   "outputs": [
    {
     "data": {
      "text/plain": [
       "0    238607\n",
       "1    142048\n",
       "Name: delayed, dtype: int64"
      ]
     },
     "execution_count": 44,
     "metadata": {},
     "output_type": "execute_result"
    }
   ],
   "source": [
    "fl['delayed'].value_counts()"
   ]
  },
  {
   "cell_type": "markdown",
   "id": "surgical-speech",
   "metadata": {},
   "source": [
    "The labels are not perfectly balanced but good enough for early model training. "
   ]
  },
  {
   "cell_type": "markdown",
   "id": "revolutionary-essay",
   "metadata": {},
   "source": [
    "## Modelling & Evaluation"
   ]
  },
  {
   "cell_type": "markdown",
   "id": "stretch-property",
   "metadata": {},
   "source": [
    "![title](img/training2.png)"
   ]
  },
  {
   "cell_type": "code",
   "execution_count": null,
   "id": "boolean-clearing",
   "metadata": {},
   "outputs": [],
   "source": [
    "# fl_sample = fl.sample(frac=0.25)\n",
    "# fl_sample.shape"
   ]
  },
  {
   "cell_type": "markdown",
   "id": "nutritional-disorder",
   "metadata": {},
   "source": [
    "#### Determine X and y"
   ]
  },
  {
   "cell_type": "code",
   "execution_count": 46,
   "id": "unlike-bathroom",
   "metadata": {},
   "outputs": [],
   "source": [
    "X = fl.drop(columns=['delayed','delay','id'])\n",
    "y = fl['delayed']"
   ]
  },
  {
   "cell_type": "code",
   "execution_count": 47,
   "id": "dying-april",
   "metadata": {},
   "outputs": [
    {
     "data": {
      "text/html": [
       "<div>\n",
       "<style scoped>\n",
       "    .dataframe tbody tr th:only-of-type {\n",
       "        vertical-align: middle;\n",
       "    }\n",
       "\n",
       "    .dataframe tbody tr th {\n",
       "        vertical-align: top;\n",
       "    }\n",
       "\n",
       "    .dataframe thead th {\n",
       "        text-align: right;\n",
       "    }\n",
       "</style>\n",
       "<table border=\"1\" class=\"dataframe\">\n",
       "  <thead>\n",
       "    <tr style=\"text-align: right;\">\n",
       "      <th></th>\n",
       "      <th>gate</th>\n",
       "      <th>prefixICAO</th>\n",
       "      <th>terminal</th>\n",
       "      <th>n_dest</th>\n",
       "      <th>final_destination</th>\n",
       "      <th>aircraft_type</th>\n",
       "      <th>gate_open_time</th>\n",
       "      <th>gate_open_to_departure_time</th>\n",
       "      <th>boarding_to_departure_time</th>\n",
       "    </tr>\n",
       "  </thead>\n",
       "  <tbody>\n",
       "    <tr>\n",
       "      <th>19</th>\n",
       "      <td>B</td>\n",
       "      <td>KLM</td>\n",
       "      <td>1.0</td>\n",
       "      <td>1</td>\n",
       "      <td>DUS</td>\n",
       "      <td>EMJ</td>\n",
       "      <td>15.0</td>\n",
       "      <td>30.0</td>\n",
       "      <td>25.0</td>\n",
       "    </tr>\n",
       "    <tr>\n",
       "      <th>20</th>\n",
       "      <td>B</td>\n",
       "      <td>CSN</td>\n",
       "      <td>1.0</td>\n",
       "      <td>1</td>\n",
       "      <td>BRU</td>\n",
       "      <td>EMJ</td>\n",
       "      <td>15.0</td>\n",
       "      <td>30.0</td>\n",
       "      <td>25.0</td>\n",
       "    </tr>\n",
       "    <tr>\n",
       "      <th>21</th>\n",
       "      <td>B</td>\n",
       "      <td>CXA</td>\n",
       "      <td>1.0</td>\n",
       "      <td>1</td>\n",
       "      <td>BRU</td>\n",
       "      <td>EMJ</td>\n",
       "      <td>15.0</td>\n",
       "      <td>30.0</td>\n",
       "      <td>25.0</td>\n",
       "    </tr>\n",
       "    <tr>\n",
       "      <th>22</th>\n",
       "      <td>B</td>\n",
       "      <td>MAS</td>\n",
       "      <td>1.0</td>\n",
       "      <td>1</td>\n",
       "      <td>BRU</td>\n",
       "      <td>EMJ</td>\n",
       "      <td>15.0</td>\n",
       "      <td>30.0</td>\n",
       "      <td>25.0</td>\n",
       "    </tr>\n",
       "    <tr>\n",
       "      <th>24</th>\n",
       "      <td>C</td>\n",
       "      <td>GIA</td>\n",
       "      <td>1.0</td>\n",
       "      <td>1</td>\n",
       "      <td>FCO</td>\n",
       "      <td>73H</td>\n",
       "      <td>45.0</td>\n",
       "      <td>60.0</td>\n",
       "      <td>30.0</td>\n",
       "    </tr>\n",
       "    <tr>\n",
       "      <th>...</th>\n",
       "      <td>...</td>\n",
       "      <td>...</td>\n",
       "      <td>...</td>\n",
       "      <td>...</td>\n",
       "      <td>...</td>\n",
       "      <td>...</td>\n",
       "      <td>...</td>\n",
       "      <td>...</td>\n",
       "      <td>...</td>\n",
       "    </tr>\n",
       "    <tr>\n",
       "      <th>502409</th>\n",
       "      <td>E</td>\n",
       "      <td>AFR</td>\n",
       "      <td>2.0</td>\n",
       "      <td>1</td>\n",
       "      <td>PEK</td>\n",
       "      <td>787</td>\n",
       "      <td>75.0</td>\n",
       "      <td>90.0</td>\n",
       "      <td>45.0</td>\n",
       "    </tr>\n",
       "    <tr>\n",
       "      <th>502410</th>\n",
       "      <td>F</td>\n",
       "      <td>KLM</td>\n",
       "      <td>2.0</td>\n",
       "      <td>1</td>\n",
       "      <td>XMN</td>\n",
       "      <td>787</td>\n",
       "      <td>75.0</td>\n",
       "      <td>90.0</td>\n",
       "      <td>45.0</td>\n",
       "    </tr>\n",
       "    <tr>\n",
       "      <th>502412</th>\n",
       "      <td>E</td>\n",
       "      <td>CSN</td>\n",
       "      <td>2.0</td>\n",
       "      <td>1</td>\n",
       "      <td>PEK</td>\n",
       "      <td>787</td>\n",
       "      <td>75.0</td>\n",
       "      <td>90.0</td>\n",
       "      <td>45.0</td>\n",
       "    </tr>\n",
       "    <tr>\n",
       "      <th>502413</th>\n",
       "      <td>E</td>\n",
       "      <td>CXA</td>\n",
       "      <td>2.0</td>\n",
       "      <td>1</td>\n",
       "      <td>PEK</td>\n",
       "      <td>787</td>\n",
       "      <td>75.0</td>\n",
       "      <td>90.0</td>\n",
       "      <td>45.0</td>\n",
       "    </tr>\n",
       "    <tr>\n",
       "      <th>502414</th>\n",
       "      <td>F</td>\n",
       "      <td>AFR</td>\n",
       "      <td>2.0</td>\n",
       "      <td>1</td>\n",
       "      <td>XMN</td>\n",
       "      <td>787</td>\n",
       "      <td>75.0</td>\n",
       "      <td>90.0</td>\n",
       "      <td>45.0</td>\n",
       "    </tr>\n",
       "  </tbody>\n",
       "</table>\n",
       "<p>380655 rows × 9 columns</p>\n",
       "</div>"
      ],
      "text/plain": [
       "       gate prefixICAO  terminal  n_dest final_destination aircraft_type  \\\n",
       "19        B        KLM       1.0       1               DUS           EMJ   \n",
       "20        B        CSN       1.0       1               BRU           EMJ   \n",
       "21        B        CXA       1.0       1               BRU           EMJ   \n",
       "22        B        MAS       1.0       1               BRU           EMJ   \n",
       "24        C        GIA       1.0       1               FCO           73H   \n",
       "...     ...        ...       ...     ...               ...           ...   \n",
       "502409    E        AFR       2.0       1               PEK           787   \n",
       "502410    F        KLM       2.0       1               XMN           787   \n",
       "502412    E        CSN       2.0       1               PEK           787   \n",
       "502413    E        CXA       2.0       1               PEK           787   \n",
       "502414    F        AFR       2.0       1               XMN           787   \n",
       "\n",
       "        gate_open_time  gate_open_to_departure_time  \\\n",
       "19                15.0                         30.0   \n",
       "20                15.0                         30.0   \n",
       "21                15.0                         30.0   \n",
       "22                15.0                         30.0   \n",
       "24                45.0                         60.0   \n",
       "...                ...                          ...   \n",
       "502409            75.0                         90.0   \n",
       "502410            75.0                         90.0   \n",
       "502412            75.0                         90.0   \n",
       "502413            75.0                         90.0   \n",
       "502414            75.0                         90.0   \n",
       "\n",
       "        boarding_to_departure_time  \n",
       "19                            25.0  \n",
       "20                            25.0  \n",
       "21                            25.0  \n",
       "22                            25.0  \n",
       "24                            30.0  \n",
       "...                            ...  \n",
       "502409                        45.0  \n",
       "502410                        45.0  \n",
       "502412                        45.0  \n",
       "502413                        45.0  \n",
       "502414                        45.0  \n",
       "\n",
       "[380655 rows x 9 columns]"
      ]
     },
     "execution_count": 47,
     "metadata": {},
     "output_type": "execute_result"
    }
   ],
   "source": [
    "X"
   ]
  },
  {
   "cell_type": "code",
   "execution_count": 48,
   "id": "tracked-growing",
   "metadata": {},
   "outputs": [
    {
     "data": {
      "text/plain": [
       "array([0, 1])"
      ]
     },
     "execution_count": 48,
     "metadata": {},
     "output_type": "execute_result"
    }
   ],
   "source": [
    "y.unique()"
   ]
  },
  {
   "cell_type": "code",
   "execution_count": 49,
   "id": "excessive-nowhere",
   "metadata": {},
   "outputs": [
    {
     "data": {
      "text/plain": [
       "gate                             6\n",
       "prefixICAO                      71\n",
       "terminal                         3\n",
       "n_dest                           2\n",
       "final_destination              196\n",
       "aircraft_type                   30\n",
       "gate_open_time                  11\n",
       "gate_open_to_departure_time    208\n",
       "boarding_to_departure_time     199\n",
       "dtype: int64"
      ]
     },
     "execution_count": 49,
     "metadata": {},
     "output_type": "execute_result"
    }
   ],
   "source": [
    "X.nunique()"
   ]
  },
  {
   "cell_type": "markdown",
   "id": "cardiovascular-cookbook",
   "metadata": {},
   "source": [
    "#### **Apply some simple preprocessing**"
   ]
  },
  {
   "cell_type": "code",
   "execution_count": 50,
   "id": "interior-sheet",
   "metadata": {},
   "outputs": [],
   "source": [
    "from sklearn.compose import make_column_transformer\n",
    "from sklearn.preprocessing import OneHotEncoder\n",
    "\n",
    "column_trans = make_column_transformer(\n",
    "    (OneHotEncoder(), ['gate','prefixICAO', 'terminal', 'aircraft_type','final_destination']),\n",
    "    remainder='drop')"
   ]
  },
  {
   "cell_type": "markdown",
   "id": "economic-galaxy",
   "metadata": {},
   "source": [
    "![title](img/onehot.png)"
   ]
  },
  {
   "cell_type": "code",
   "execution_count": 51,
   "id": "democratic-observation",
   "metadata": {},
   "outputs": [],
   "source": [
    "num_vars = ['gate_open_time', 'gate_open_to_departure_time','boarding_to_departure_time','n_dest']\n",
    "X_cat = column_trans.fit_transform(X)\n",
    "col_names = column_trans.get_feature_names() + num_vars #extract column names for feature importances\n",
    "X_num = X[num_vars]\n",
    "\n",
    "sc = StandardScaler()\n",
    "sc.fit(X_num)\n",
    "\n",
    "X_num = sc.transform(X_num)\n",
    "X_cat = X_cat.toarray()\n",
    "X = np.append(X_cat, X_num, 1)"
   ]
  },
  {
   "cell_type": "markdown",
   "id": "parliamentary-convertible",
   "metadata": {},
   "source": [
    "**Hoe zit een willekeurige vector voor training er nu uit?**"
   ]
  },
  {
   "cell_type": "code",
   "execution_count": 52,
   "id": "acting-october",
   "metadata": {},
   "outputs": [
    {
     "data": {
      "text/plain": [
       "array([ 1.        ,  0.        ,  0.        ,  0.        ,  0.        ,\n",
       "        0.        ,  0.        ,  0.        ,  0.        ,  0.        ,\n",
       "        0.        ,  0.        ,  0.        ,  0.        ,  0.        ,\n",
       "        0.        ,  0.        ,  0.        ,  0.        ,  0.        ,\n",
       "        0.        ,  0.        ,  0.        ,  0.        ,  0.        ,\n",
       "        0.        ,  0.        ,  0.        ,  0.        ,  0.        ,\n",
       "        0.        ,  0.        ,  0.        ,  0.        ,  0.        ,\n",
       "        0.        ,  0.        ,  0.        ,  0.        ,  0.        ,\n",
       "        0.        ,  0.        ,  0.        ,  0.        ,  0.        ,\n",
       "        0.        ,  0.        ,  0.        ,  1.        ,  0.        ,\n",
       "        0.        ,  0.        ,  0.        ,  0.        ,  0.        ,\n",
       "        0.        ,  0.        ,  0.        ,  0.        ,  0.        ,\n",
       "        0.        ,  0.        ,  0.        ,  0.        ,  0.        ,\n",
       "        0.        ,  0.        ,  0.        ,  0.        ,  0.        ,\n",
       "        0.        ,  0.        ,  0.        ,  0.        ,  0.        ,\n",
       "        0.        ,  0.        ,  1.        ,  0.        ,  0.        ,\n",
       "        0.        ,  0.        ,  0.        ,  0.        ,  0.        ,\n",
       "        0.        ,  0.        ,  0.        ,  0.        ,  0.        ,\n",
       "        0.        ,  0.        ,  0.        ,  0.        ,  0.        ,\n",
       "        0.        ,  0.        ,  0.        ,  0.        ,  0.        ,\n",
       "        0.        ,  0.        ,  0.        ,  0.        ,  0.        ,\n",
       "        0.        ,  0.        ,  0.        ,  1.        ,  0.        ,\n",
       "        0.        ,  0.        ,  0.        ,  0.        ,  0.        ,\n",
       "        0.        ,  0.        ,  0.        ,  0.        ,  0.        ,\n",
       "        0.        ,  0.        ,  0.        ,  0.        ,  0.        ,\n",
       "        0.        ,  0.        ,  0.        ,  0.        ,  0.        ,\n",
       "        0.        ,  0.        ,  0.        ,  0.        ,  0.        ,\n",
       "        0.        ,  0.        ,  0.        ,  0.        ,  0.        ,\n",
       "        0.        ,  0.        ,  0.        ,  0.        ,  0.        ,\n",
       "        0.        ,  0.        ,  0.        ,  0.        ,  0.        ,\n",
       "        0.        ,  0.        ,  0.        ,  0.        ,  0.        ,\n",
       "        0.        ,  0.        ,  0.        ,  0.        ,  0.        ,\n",
       "        0.        ,  0.        ,  0.        ,  0.        ,  0.        ,\n",
       "        0.        ,  0.        ,  0.        ,  0.        ,  0.        ,\n",
       "        0.        ,  0.        ,  0.        ,  0.        ,  0.        ,\n",
       "        0.        ,  0.        ,  0.        ,  0.        ,  0.        ,\n",
       "        0.        ,  0.        ,  0.        ,  0.        ,  0.        ,\n",
       "        0.        ,  0.        ,  0.        ,  0.        ,  0.        ,\n",
       "        0.        ,  0.        ,  0.        ,  0.        ,  0.        ,\n",
       "        0.        ,  0.        ,  0.        ,  0.        ,  0.        ,\n",
       "        0.        ,  0.        ,  0.        ,  0.        ,  0.        ,\n",
       "        0.        ,  0.        ,  0.        ,  0.        ,  0.        ,\n",
       "        0.        ,  0.        ,  0.        ,  0.        ,  0.        ,\n",
       "        0.        ,  0.        ,  0.        ,  0.        ,  0.        ,\n",
       "        0.        ,  0.        ,  0.        ,  0.        ,  0.        ,\n",
       "        0.        ,  0.        ,  0.        ,  0.        ,  0.        ,\n",
       "        0.        ,  0.        ,  0.        ,  0.        ,  0.        ,\n",
       "        0.        ,  0.        ,  0.        ,  0.        ,  0.        ,\n",
       "        0.        ,  0.        ,  0.        ,  0.        ,  0.        ,\n",
       "        0.        ,  0.        ,  0.        ,  0.        ,  0.        ,\n",
       "        0.        ,  0.        ,  1.        ,  0.        ,  0.        ,\n",
       "        0.        ,  0.        ,  0.        ,  0.        ,  0.        ,\n",
       "        0.        ,  0.        ,  0.        ,  0.        ,  0.        ,\n",
       "        0.        ,  0.        ,  0.        ,  0.        ,  0.        ,\n",
       "        0.        ,  0.        ,  0.        ,  0.        ,  0.        ,\n",
       "        0.        ,  0.        ,  0.        ,  0.        ,  0.        ,\n",
       "        0.        ,  0.        ,  0.        ,  0.        ,  0.        ,\n",
       "        0.        ,  0.        ,  0.        ,  0.        ,  0.        ,\n",
       "        0.        ,  0.        ,  0.        ,  0.        ,  0.        ,\n",
       "        0.        ,  0.        ,  0.        ,  0.        ,  0.        ,\n",
       "        0.        ,  0.        ,  0.        ,  0.        ,  0.        ,\n",
       "        0.        ,  0.25029757,  0.34149083,  0.16270374, -0.12983108])"
      ]
     },
     "execution_count": 52,
     "metadata": {},
     "output_type": "execute_result"
    }
   ],
   "source": [
    "X[42]"
   ]
  },
  {
   "cell_type": "markdown",
   "id": "legendary-hurricane",
   "metadata": {},
   "source": [
    "#### Split into train and test set"
   ]
  },
  {
   "cell_type": "code",
   "execution_count": 53,
   "id": "upset-bangkok",
   "metadata": {},
   "outputs": [
    {
     "name": "stdout",
     "output_type": "stream",
     "text": [
      "(array([0, 1]), array([214746, 127843]))\n",
      "(array([0, 1]), array([23861, 14205]))\n"
     ]
    }
   ],
   "source": [
    "X_train,X_test,y_train,y_test=train_test_split(X,y,test_size=0.1,random_state=42,stratify=y)\n",
    "print(np.unique(y_train, return_counts=True))\n",
    "print(np.unique(y_test, return_counts=True))"
   ]
  },
  {
   "cell_type": "markdown",
   "id": "fixed-nancy",
   "metadata": {},
   "source": [
    "### Decision Tree Classifier (Baseline)"
   ]
  },
  {
   "cell_type": "code",
   "execution_count": 54,
   "id": "authorized-essay",
   "metadata": {},
   "outputs": [],
   "source": [
    "dt = DecisionTreeClassifier()"
   ]
  },
  {
   "cell_type": "markdown",
   "id": "undefined-joshua",
   "metadata": {},
   "source": [
    "![title](img/crossval.jpg)"
   ]
  },
  {
   "cell_type": "code",
   "execution_count": 55,
   "id": "european-homework",
   "metadata": {},
   "outputs": [
    {
     "name": "stdout",
     "output_type": "stream",
     "text": [
      "[0.75283939 0.7499387  0.75028898]\n"
     ]
    },
    {
     "data": {
      "text/plain": [
       "0.7510223567685045"
      ]
     },
     "execution_count": 55,
     "metadata": {},
     "output_type": "execute_result"
    }
   ],
   "source": [
    "kfold = KFold(n_splits=3)\n",
    "scores_dt = cross_val_score(dt, X_train, y_train, cv=kfold,scoring='accuracy',n_jobs=-1)\n",
    "print(scores_dt)\n",
    "scores_dt.mean()"
   ]
  },
  {
   "cell_type": "code",
   "execution_count": 56,
   "id": "finished-jonathan",
   "metadata": {},
   "outputs": [
    {
     "name": "stdout",
     "output_type": "stream",
     "text": [
      "AUC: 0.7632482071122317\n",
      "Accuracy: 0.7536121473230705\n",
      "Precision: 0.8137025481019241\n",
      "Recall: 0.4406195001759944\n"
     ]
    },
    {
     "data": {
      "image/png": "[encoded data removed]",
      "text/plain": [
       "<Figure size 432x288 with 1 Axes>"
      ]
     },
     "metadata": {
      "needs_background": "light"
     },
     "output_type": "display_data"
    },
    {
     "data": {
      "text/plain": [
       "<sklearn.metrics._plot.confusion_matrix.ConfusionMatrixDisplay at 0x15de987b8>"
      ]
     },
     "execution_count": 56,
     "metadata": {},
     "output_type": "execute_result"
    },
    {
     "data": {
      "image/png": "[encoded data removed]",
      "text/plain": [
       "<Figure size 432x288 with 2 Axes>"
      ]
     },
     "metadata": {
      "needs_background": "light"
     },
     "output_type": "display_data"
    }
   ],
   "source": [
    "dt.fit(X_train, y_train)\n",
    "y_pred = dt.predict(X_test)\n",
    "y_pred_proba = dt.predict_proba(X_test)[::,1]\n",
    "fpr, tpr, _ = metrics.roc_curve(y_test,  y_pred_proba)\n",
    "auc = metrics.roc_auc_score(y_test, y_pred_proba)\n",
    "print(\"AUC:\",auc)\n",
    "print(\"Accuracy:\",metrics.accuracy_score(y_test, y_pred))\n",
    "print(\"Precision:\",metrics.precision_score(y_test, y_pred))\n",
    "print(\"Recall:\",metrics.recall_score(y_test, y_pred))\n",
    "plt.plot(fpr,tpr,label=\"data 1, auc=\"+str(auc))\n",
    "plt.legend(loc=4)\n",
    "plt.show()\n",
    "metrics.plot_confusion_matrix(dt, X_test, y_test)"
   ]
  },
  {
   "cell_type": "code",
   "execution_count": null,
   "id": "possible-elizabeth",
   "metadata": {},
   "outputs": [],
   "source": [
    "imps = pd.DataFrame(columns=['Feature','Importance'])\n",
    "imps['Feature'],imps['Importance'] = col_names, dt.feature_importances_\n",
    "imps = imps.sort_values(by=['Importance'], ascending=False)\n",
    "imps.head(20)"
   ]
  },
  {
   "cell_type": "markdown",
   "id": "placed-jonathan",
   "metadata": {},
   "source": [
    "Boarding to departure time quite important here, perhaps overfitting on this variable. "
   ]
  },
  {
   "cell_type": "markdown",
   "id": "absent-builder",
   "metadata": {},
   "source": [
    "### Logistic Regression"
   ]
  },
  {
   "cell_type": "code",
   "execution_count": null,
   "id": "czech-daisy",
   "metadata": {},
   "outputs": [],
   "source": [
    "kfold = KFold(n_splits=3)\n",
    "lr = LogisticRegression(max_iter=200)\n",
    "scores_dt = cross_val_score(lr, X_train, y_train, cv=kfold,scoring='accuracy',n_jobs=-1)\n",
    "print(scores_dt)\n",
    "scores_dt.mean()"
   ]
  },
  {
   "cell_type": "code",
   "execution_count": null,
   "id": "steady-brass",
   "metadata": {},
   "outputs": [],
   "source": [
    "lr.fit(X_train, y_train)\n",
    "y_pred = lr.predict(X_test)\n",
    "y_pred_proba = lr.predict_proba(X_test)[::,1]\n",
    "fpr, tpr, _ = metrics.roc_curve(y_test,  y_pred_proba)\n",
    "auc = metrics.roc_auc_score(y_test, y_pred_proba)\n",
    "print(\"AUC:\",auc)\n",
    "print(\"Accuracy:\",metrics.accuracy_score(y_test, y_pred))\n",
    "print(\"Precision:\",metrics.precision_score(y_test, y_pred))\n",
    "print(\"Recall:\",metrics.recall_score(y_test, y_pred))\n",
    "plt.plot(fpr,tpr,label=\"data 1, auc=\"+str(auc))\n",
    "plt.legend(loc=4)\n",
    "plt.show()\n",
    "metrics.plot_confusion_matrix(lr, X_test, y_test)"
   ]
  },
  {
   "cell_type": "code",
   "execution_count": null,
   "id": "seeing-surrey",
   "metadata": {},
   "outputs": [],
   "source": []
  }
 ],
 "metadata": {
  "kernelspec": {
   "display_name": "Python 3",
   "language": "python",
   "name": "python3"
  },
  "language_info": {
   "codemirror_mode": {
    "name": "ipython",
    "version": 3
   },
   "file_extension": ".py",
   "mimetype": "text/x-python",
   "name": "python",
   "nbconvert_exporter": "python",
   "pygments_lexer": "ipython3",
   "version": "3.7.2"
  }
 },
 "nbformat": 4,
 "nbformat_minor": 5
}
